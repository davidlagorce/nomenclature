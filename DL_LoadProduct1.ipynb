{
 "cells": [
  {
   "cell_type": "code",
   "execution_count": 9,
   "id": "2e5bfba8-00e3-493a-b263-dedcc5f36ceb",
   "metadata": {},
   "outputs": [],
   "source": [
    "library(jsonlite)\n",
    "library(rlist)\n",
    "library(data.table)\n",
    "suppressPackageStartupMessages(library(\"dplyr\"))\n",
    "library(XML)\n",
    "library(methods)"
   ]
  },
  {
   "cell_type": "code",
   "execution_count": 10,
   "id": "c25367df-b361-4add-bd7d-f728a971ae29",
   "metadata": {},
   "outputs": [],
   "source": [
    "# We open xml \"product1_en_cross_jdbor_evo\"\n",
    "product1=xmlParse(\"xml/en_product1.xml\")\n",
    "product1=xmlToList(product1)\n",
    "\n",
    "# We remove the last element of the list, which is the numeric count of all elements of the list\n",
    "product1=product1$DisorderList\n",
    "product1=product1[-length(product1)]\n",
    "\n",
    "### Our list for working\n",
    "indice_list=1\n",
    "product=list()\n",
    "for (i in 1:length(product1))\n",
    "{\n",
    "  product[[indice_list]]=product1[[i]]\n",
    "  indice_list=indice_list+1\n",
    "}\n",
    "\n",
    "# Each element in the list is a disorder\n",
    "\n"
   ]
  },
  {
   "cell_type": "code",
   "execution_count": 11,
   "id": "57343172-83e7-4924-a629-37553508dc00",
   "metadata": {},
   "outputs": [],
   "source": [
    "save(product, file = \"product1.Rdata\")"
   ]
  },
  {
   "cell_type": "code",
   "execution_count": null,
   "id": "32dfa2c2-ab55-417c-9dff-4e37cc864321",
   "metadata": {},
   "outputs": [],
   "source": []
  }
 ],
 "metadata": {
  "kernelspec": {
   "display_name": "R",
   "language": "R",
   "name": "ir"
  },
  "language_info": {
   "codemirror_mode": "r",
   "file_extension": ".r",
   "mimetype": "text/x-r-source",
   "name": "R",
   "pygments_lexer": "r",
   "version": "4.2.1"
  }
 },
 "nbformat": 4,
 "nbformat_minor": 5
}

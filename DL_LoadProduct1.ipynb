{
 "cells": [
  {
   "cell_type": "code",
   "execution_count": null,
   "id": "2e5bfba8-00e3-493a-b263-dedcc5f36ceb",
   "metadata": {},
   "outputs": [],
   "source": [
    "library(jsonlite)\n",
    "library(rlist)\n",
    "library(data.table)\n",
    "suppressPackageStartupMessages(library(\"dplyr\"))\n",
    "library(XML)\n",
    "library(methods)"
   ]
  },
  {
   "cell_type": "code",
   "execution_count": null,
   "id": "c25367df-b361-4add-bd7d-f728a971ae29",
   "metadata": {},
   "outputs": [],
   "source": [
    "# We open Orphadata Rare Diseases and Alignment with Terminologies and Databases (product1.xml)\n",
    "product1=xmlParse(\"xml/en_product1.xml\")\n",
    "product1=xmlToList(product1)\n",
    "\n",
    "# We remove the last element of the list, which is the numeric count of all elements of the list\n",
    "product1=product1$DisorderList\n",
    "product1=product1[-length(product1)]\n",
    "\n",
    "### Our list for working\n",
    "indice_list=1\n",
    "product=list()\n",
    "for (i in 1:length(product1))\n",
    "{\n",
    "  product[[indice_list]]=product1[[i]]\n",
    "  indice_list=indice_list+1\n",
    "}\n",
    "\n",
    "# Each element in the list is a disorder"
   ]
  },
  {
   "cell_type": "code",
   "execution_count": null,
   "id": "c1bf1660-1f0d-41c8-aae7-63698edcda7d",
   "metadata": {},
   "outputs": [
    {
     "data": {
      "text/html": [
       "9369"
      ],
      "text/latex": [
       "9369"
      ],
      "text/markdown": [
       "9369"
      ],
      "text/plain": [
       "[1] 9369"
      ]
     },
     "metadata": {},
     "output_type": "display_data"
    }
   ],
   "source": [
    "# We only select the active clinical entities by flags:\n",
    "# Head of classification (flag=128), Historical entities (flag=512) & On-line (flag=1)\n",
    "indice_list=1\n",
    "all_active_clinical_entities=list()\n",
    "for (i in 1:length(product))\n",
    "  if (product[[i]]$DisorderFlagList$DisorderFlag$Value=='1' |\n",
    "      product[[i]]$DisorderFlagList$DisorderFlag$Value=='128' |\n",
    "      product[[i]]$DisorderFlagList$DisorderFlag$Value=='512')\n",
    "  {\n",
    "    all_active_clinical_entities[[indice_list]]=product[[i]]\n",
    "    indice_list=indice_list+1\n",
    "  }\n",
    "number_all_active_clinical_entities=length(all_active_clinical_entities)\n",
    "number_all_active_clinical_entities"
   ]
  },
  {
   "cell_type": "code",
   "execution_count": 11,
   "id": "8eb794b9-42df-40f9-b722-8829055ecd67",
   "metadata": {},
   "outputs": [
    {
     "data": {
      "text/html": [
       "1306"
      ],
      "text/latex": [
       "1306"
      ],
      "text/markdown": [
       "1306"
      ],
      "text/plain": [
       "[1] 1306"
      ]
     },
     "metadata": {},
     "output_type": "display_data"
    },
    {
     "data": {
      "text/html": [
       "10675"
      ],
      "text/latex": [
       "10675"
      ],
      "text/markdown": [
       "10675"
      ],
      "text/plain": [
       "[1] 10675"
      ]
     },
     "metadata": {},
     "output_type": "display_data"
    }
   ],
   "source": [
    "# We only select the active clinical entities by removing inactives entities (8192) :\n",
    "indice_list=1\n",
    "number_all_active_clinical_entities_8192=list()\n",
    "for (i in 1:length(product))\n",
    "  if (product[[i]]$DisorderFlagList$DisorderFlag$Value=='8192')\n",
    "  {\n",
    "    number_all_active_clinical_entities_8192[[indice_list]]=product[[i]]\n",
    "    indice_list=indice_list+1\n",
    "  }\n",
    "number_all_active_clinical_entities_8192=length(number_all_active_clinical_entities_8192)\n",
    "number_all_active_clinical_entities_8192\n",
    "number_product=length(product)\n",
    "number_product"
   ]
  },
  {
   "cell_type": "code",
   "execution_count": null,
   "id": "57343172-83e7-4924-a629-37553508dc00",
   "metadata": {},
   "outputs": [],
   "source": [
    "save(all_active_clinical_entities, file = \"all_active_clinical_entities.Rdata\")\n",
    "save(number_all_active_clinical_entities_8192, file = \"number_all_active_clinical_entities_8192.Rdata\")"
   ]
  }
 ],
 "metadata": {
  "kernelspec": {
   "display_name": "R",
   "language": "R",
   "name": "ir"
  },
  "language_info": {
   "codemirror_mode": "r",
   "file_extension": ".r",
   "mimetype": "text/x-r-source",
   "name": "R",
   "pygments_lexer": "r",
   "version": "4.2.1"
  }
 },
 "nbformat": 4,
 "nbformat_minor": 5
}

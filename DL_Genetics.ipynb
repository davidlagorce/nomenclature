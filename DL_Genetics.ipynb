{
 "cells": [
  {
   "cell_type": "code",
   "execution_count": 1,
   "id": "1a1f8dc1-b3c4-41bb-87f4-758c5ce7f11a",
   "metadata": {},
   "outputs": [],
   "source": [
    "library(jsonlite)\n",
    "library(rlist)\n",
    "library(data.table)\n",
    "suppressPackageStartupMessages(library(\"dplyr\"))\n",
    "library(XML)\n",
    "library(methods)"
   ]
  },
  {
   "cell_type": "code",
   "execution_count": 2,
   "id": "94a684a5-64f8-40b1-b4a7-d7c6087044ff",
   "metadata": {},
   "outputs": [],
   "source": [
    "# We load product1\n",
    "load(file = \"all_active_clinical_entities.Rdata\")"
   ]
  },
  {
   "cell_type": "code",
   "execution_count": 3,
   "id": "3318ca68-f8e1-452d-aeaa-90fc03e57668",
   "metadata": {},
   "outputs": [],
   "source": [
    "# We only select the active clinical entities:\n",
    "# Head of classification (flag=128), Historical entities (flag=512) & On-line (flag=1)\n",
    "indice_list=1\n",
    "all_active_clinical_entities=list()\n",
    "for (i in 1:length(product))\n",
    "  if (product[[i]]$DisorderFlagList$DisorderFlag$Value=='1' |\n",
    "      product[[i]]$DisorderFlagList$DisorderFlag$Value=='128' |\n",
    "      product[[i]]$DisorderFlagList$DisorderFlag$Value=='512')\n",
    "  {\n",
    "    all_active_clinical_entities[[indice_list]]=product[[i]]\n",
    "    indice_list=indice_list+1\n",
    "  }"
   ]
  },
  {
   "cell_type": "code",
   "execution_count": 4,
   "id": "dd79454e-adfe-4c1e-b5fd-10195a15f80b",
   "metadata": {},
   "outputs": [
    {
     "data": {
      "text/html": [
       "6165"
      ],
      "text/latex": [
       "6165"
      ],
      "text/markdown": [
       "6165"
      ],
      "text/plain": [
       "[1] 6165"
      ]
     },
     "metadata": {},
     "output_type": "display_data"
    }
   ],
   "source": [
    "### Number of disorders\n",
    "indice_list=1\n",
    "disorders=list()\n",
    "for (i in 1:length(all_active_clinical_entities))\n",
    "  if (all_active_clinical_entities[[i]]$DisorderGroup$Name$text=='Disorder')\n",
    "  {\n",
    "    disorders[[indice_list]]=all_active_clinical_entities[[i]]\n",
    "    indice_list=indice_list+1\n",
    "  }\n",
    "number_disorders=length(disorders)\n",
    "number_disorders"
   ]
  },
  {
   "cell_type": "code",
   "execution_count": 12,
   "id": "ba2658ea-f3f0-4341-8c73-5af5b99f41c4",
   "metadata": {},
   "outputs": [],
   "source": [
    "suppressWarnings({\n",
    "# We can now work on the genetic datas\n",
    "# We open the xml \"product3_156_en_jdbor_evo.xml\" that contains the genetic disorders\n",
    "xmldoc=xmlParse(\"xml/en_product3_156.xml\")\n",
    "# We convert all the nodes \"Disorder\" in a data frame\n",
    "xml_156=xmlToDataFrame(nodes = getNodeSet(xmldoc, \"//Disorder\"))\n",
    "xml_156=as.data.frame(xml_156)\n",
    "\n",
    "# We delete the duplicatas\n",
    "xml_156=xml_156[!duplicated(xml_156),]\n",
    "    })"
   ]
  },
  {
   "cell_type": "code",
   "execution_count": 13,
   "id": "8d27cfc4-9019-4e21-8f53-77f834028fc1",
   "metadata": {},
   "outputs": [],
   "source": [
    "# We only keep the disorders\n",
    "xml_156=filter(xml_156, DisorderType=='Malformation syndrome' | DisorderType=='Disease' |\n",
    "DisorderType=='Morphological anomaly'| DisorderType=='Clinical syndrome' |\n",
    "DisorderType=='Particular clinical situation in a disease or syndrome' | DisorderType=='Biological anomaly')\n",
    "\n",
    "Biological anomaly\t21408\n",
    "Clinical syndrome\t21422\n",
    "Disease\t21394\n",
    "Malformation syndrome\t21401\n",
    "Morphological anomaly\t21415\n",
    "Particular clinical situation in a disease or syndrome\t21429\n",
    "Clinical subtype\t21450\n",
    "Etiological subtype\t21443\n",
    "Histopathological subtype\t21457\n"
   ]
  },
  {
   "cell_type": "code",
   "execution_count": 14,
   "id": "cffb04f4-6eea-4ef6-bf67-c0541b485c81",
   "metadata": {},
   "outputs": [
    {
     "data": {
      "text/html": [
       "4521"
      ],
      "text/latex": [
       "4521"
      ],
      "text/markdown": [
       "4521"
      ],
      "text/plain": [
       "[1] 4521"
      ]
     },
     "metadata": {},
     "output_type": "display_data"
    }
   ],
   "source": [
    "# Then we finaly get the number of genetic disorders\n",
    "number_of_active_genetic_disorders=nrow(xml_156)\n",
    "number_of_active_genetic_disorders"
   ]
  },
  {
   "cell_type": "code",
   "execution_count": 15,
   "id": "4038c6c1-d943-42b6-afb7-bfad06300593",
   "metadata": {},
   "outputs": [
    {
     "data": {
      "text/html": [
       "1644"
      ],
      "text/latex": [
       "1644"
      ],
      "text/markdown": [
       "1644"
      ],
      "text/plain": [
       "[1] 1644"
      ]
     },
     "metadata": {},
     "output_type": "display_data"
    }
   ],
   "source": [
    "# And the number of non genetic disorders\n",
    "number_of_non_active_genetic_disorders=number_disorders - number_of_active_genetic_disorders\n",
    "number_of_non_active_genetic_disorders"
   ]
  },
  {
   "cell_type": "code",
   "execution_count": 16,
   "id": "38c378d7-8216-4c68-a25d-5bc33827ebce",
   "metadata": {},
   "outputs": [
    {
     "data": {
      "text/html": [
       "73.3333333333333"
      ],
      "text/latex": [
       "73.3333333333333"
      ],
      "text/markdown": [
       "73.3333333333333"
      ],
      "text/plain": [
       "[1] 73.33333"
      ]
     },
     "metadata": {},
     "output_type": "display_data"
    }
   ],
   "source": [
    "# Percentage of genetic disorders\n",
    "percentage_of_active_genetic_disorders=number_of_active_genetic_disorders/number_disorders*100\n",
    "percentage_of_active_genetic_disorders"
   ]
  },
  {
   "cell_type": "code",
   "execution_count": 17,
   "id": "c8a3c20e-7255-4c55-b89d-42b5005fc51a",
   "metadata": {},
   "outputs": [
    {
     "data": {
      "text/html": [
       "26.6666666666667"
      ],
      "text/latex": [
       "26.6666666666667"
      ],
      "text/markdown": [
       "26.6666666666667"
      ],
      "text/plain": [
       "[1] 26.66667"
      ]
     },
     "metadata": {},
     "output_type": "display_data"
    }
   ],
   "source": [
    "# Percentage of non genetic disorders\n",
    "percentage_of_non_active_genetic_disorders=number_of_non_active_genetic_disorders/number_disorders*100\n",
    "percentage_of_non_active_genetic_disorders"
   ]
  }
 ],
 "metadata": {
  "kernelspec": {
   "display_name": "R",
   "language": "R",
   "name": "ir"
  },
  "language_info": {
   "codemirror_mode": "r",
   "file_extension": ".r",
   "mimetype": "text/x-r-source",
   "name": "R",
   "pygments_lexer": "r",
   "version": "4.2.1"
  }
 },
 "nbformat": 4,
 "nbformat_minor": 5
}

{
 "cells": [
  {
   "cell_type": "code",
   "execution_count": 15,
   "id": "439281f8-6c0f-4c94-a4b2-1831d2e18fdc",
   "metadata": {},
   "outputs": [],
   "source": [
    "#######################################################\n",
    "###                                                 ###\n",
    "###   /!\\  RUN DL_LoadProduct1.ipynb BEFORE   /!\\   ###\n",
    "###                                                 ###\n",
    "#######################################################"
   ]
  },
  {
   "cell_type": "code",
   "execution_count": 15,
   "id": "2b186c16-5315-4c6c-98b9-543243a6a1e9",
   "metadata": {},
   "outputs": [],
   "source": [
    "library(jsonlite)\n",
    "library(rlist)\n",
    "library(data.table)\n",
    "suppressPackageStartupMessages(library(\"dplyr\"))\n",
    "library(XML)\n",
    "library(methods)"
   ]
  },
  {
   "cell_type": "code",
   "execution_count": 16,
   "id": "94a684a5-64f8-40b1-b4a7-d7c6087044ff",
   "metadata": {},
   "outputs": [],
   "source": [
    "# We load product1\n",
    "load(file = \"all_active_clinical_entities.Rdata\")"
   ]
  },
  {
   "cell_type": "code",
   "execution_count": 17,
   "id": "dd79454e-adfe-4c1e-b5fd-10195a15f80b",
   "metadata": {},
   "outputs": [
    {
     "data": {
      "text/html": [
       "6227"
      ],
      "text/latex": [
       "6227"
      ],
      "text/markdown": [
       "6227"
      ],
      "text/plain": [
       "[1] 6227"
      ]
     },
     "metadata": {},
     "output_type": "display_data"
    }
   ],
   "source": [
    "### Number of disorders\n",
    "indice_list=1\n",
    "disorders=list()\n",
    "for (i in 1:length(all_active_clinical_entities))\n",
    "  if (all_active_clinical_entities[[i]]$DisorderGroup$Name$text=='Disorder')\n",
    "  {\n",
    "    disorders[[indice_list]]=all_active_clinical_entities[[i]]\n",
    "    indice_list=indice_list+1\n",
    "  }\n",
    "number_disorders=length(disorders)\n",
    "number_disorders"
   ]
  },
  {
   "cell_type": "code",
   "execution_count": 11,
   "id": "ba2658ea-f3f0-4341-8c73-5af5b99f41c4",
   "metadata": {},
   "outputs": [],
   "source": [
    "suppressWarnings({\n",
    "# We can now work on the genetic datas\n",
    "# We open the xml \"product3_156_en_jdbor_evo.xml\" that contains the genetic disorders\n",
    "xmldoc=xmlParse(\"xml/en_product3_156.xml\")\n",
    "# We convert all the nodes \"Disorder\" in a data frame\n",
    "xml_156=xmlToDataFrame(nodes = getNodeSet(xmldoc, \"//Disorder\"))\n",
    "xml_156=as.data.frame(xml_156)\n",
    "\n",
    "# We delete the duplicatas\n",
    "xml_156=xml_156[!duplicated(xml_156),]\n",
    "    })"
   ]
  },
  {
   "cell_type": "code",
   "execution_count": 12,
   "id": "8d27cfc4-9019-4e21-8f53-77f834028fc1",
   "metadata": {},
   "outputs": [],
   "source": [
    "# We only keep the disorders\n",
    "xml_156=filter(xml_156, DisorderType=='Malformation syndrome' | DisorderType=='Disease' |\n",
    "DisorderType=='Morphological anomaly'| DisorderType=='Clinical syndrome' |\n",
    "DisorderType=='Particular clinical situation in a disease or syndrome' | DisorderType=='Biological anomaly')"
   ]
  },
  {
   "cell_type": "code",
   "execution_count": 13,
   "id": "cffb04f4-6eea-4ef6-bf67-c0541b485c81",
   "metadata": {},
   "outputs": [
    {
     "data": {
      "text/html": [
       "4521"
      ],
      "text/latex": [
       "4521"
      ],
      "text/markdown": [
       "4521"
      ],
      "text/plain": [
       "[1] 4521"
      ]
     },
     "metadata": {},
     "output_type": "display_data"
    }
   ],
   "source": [
    "# Then we finaly get the number of genetic disorders\n",
    "number_of_active_genetic_disorders=nrow(xml_156)\n",
    "number_of_active_genetic_disorders"
   ]
  },
  {
   "cell_type": "code",
   "execution_count": 14,
   "id": "4038c6c1-d943-42b6-afb7-bfad06300593",
   "metadata": {},
   "outputs": [
    {
     "data": {
      "text/html": [
       "1706"
      ],
      "text/latex": [
       "1706"
      ],
      "text/markdown": [
       "1706"
      ],
      "text/plain": [
       "[1] 1706"
      ]
     },
     "metadata": {},
     "output_type": "display_data"
    }
   ],
   "source": [
    "# And the number of non genetic disorders\n",
    "number_of_non_active_genetic_disorders=number_disorders - number_of_active_genetic_disorders\n",
    "number_of_non_active_genetic_disorders"
   ]
  },
  {
   "cell_type": "code",
   "execution_count": 15,
   "id": "38c378d7-8216-4c68-a25d-5bc33827ebce",
   "metadata": {},
   "outputs": [
    {
     "data": {
      "text/html": [
       "72.6031797013008"
      ],
      "text/latex": [
       "72.6031797013008"
      ],
      "text/markdown": [
       "72.6031797013008"
      ],
      "text/plain": [
       "[1] 72.60318"
      ]
     },
     "metadata": {},
     "output_type": "display_data"
    }
   ],
   "source": [
    "# Percentage of genetic disorders\n",
    "percentage_of_active_genetic_disorders=number_of_active_genetic_disorders/number_disorders*100\n",
    "percentage_of_active_genetic_disorders"
   ]
  },
  {
   "cell_type": "code",
   "execution_count": 16,
   "id": "c8a3c20e-7255-4c55-b89d-42b5005fc51a",
   "metadata": {},
   "outputs": [
    {
     "data": {
      "text/html": [
       "27.3968202986992"
      ],
      "text/latex": [
       "27.3968202986992"
      ],
      "text/markdown": [
       "27.3968202986992"
      ],
      "text/plain": [
       "[1] 27.39682"
      ]
     },
     "metadata": {},
     "output_type": "display_data"
    }
   ],
   "source": [
    "# Percentage of non genetic disorders\n",
    "percentage_of_non_active_genetic_disorders=number_of_non_active_genetic_disorders/number_disorders*100\n",
    "percentage_of_non_active_genetic_disorders"
   ]
  }
 ],
 "metadata": {
  "kernelspec": {
   "display_name": "R",
   "language": "R",
   "name": "ir"
  },
  "language_info": {
   "codemirror_mode": "r",
   "file_extension": ".r",
   "mimetype": "text/x-r-source",
   "name": "R",
   "pygments_lexer": "r",
   "version": "4.2.1"
  }
 },
 "nbformat": 4,
 "nbformat_minor": 5
}

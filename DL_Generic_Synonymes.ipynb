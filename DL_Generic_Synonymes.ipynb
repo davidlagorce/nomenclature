{
 "cells": [
  {
   "cell_type": "code",
   "execution_count": 59,
   "id": "d05ea03b-ec5e-4f65-af2a-11450abcf480",
   "metadata": {},
   "outputs": [],
   "source": [
    "##############################\n",
    "###   LANGUAGE SELECTION   ###\n",
    "###      en -> English     ###\n",
    "###      cs -> Czech       ###\n",
    "###      de -> German      ###\n",
    "###      es -> Spanish     ###\n",
    "###      fr -> French      ###\n",
    "###      it -> Italian     ###\n",
    "###      nl -> Dutch       ###\n",
    "###      pl -> Polish      ###\n",
    "###      pt -> Portuguese  ###\n",
    "##############################\n",
    "\n",
    "language = \"fr\""
   ]
  },
  {
   "cell_type": "code",
   "execution_count": 60,
   "id": "e578a756-50ee-4f11-a922-8cde0d2e88ca",
   "metadata": {},
   "outputs": [],
   "source": [
    "# We launch the libraries\n",
    "library(jsonlite)\n",
    "library(rlist)\n",
    "library(data.table)\n",
    "library(dplyr)\n",
    "library(XML)\n",
    "library(methods)"
   ]
  },
  {
   "cell_type": "code",
   "execution_count": 61,
   "id": "bfc4a6e3-1a8b-4faf-a999-2af9202448bf",
   "metadata": {},
   "outputs": [],
   "source": [
    "# We open xml \"product1_en_cross_jdbor_evo\"\n",
    "product1=xmlParse(paste0(\"xml/\",language,\"_product1.xml\"))\n",
    "product1=xmlToList(product1)\n",
    "# We remove the last element of the list, which is the numeric count of all elements of the list\n",
    "product1=product1$DisorderList\n",
    "product1=product1[-length(product1)]\n",
    "\n",
    "### Our list for working\n",
    "indice_list=1\n",
    "product=list()\n",
    "for (i in 1:length(product1))\n",
    "{\n",
    "  product[[indice_list]]=product1[[i]]\n",
    "  indice_list=indice_list+1\n",
    "}\n",
    "# Each element in the list is a disorder"
   ]
  },
  {
   "cell_type": "code",
   "execution_count": 62,
   "id": "70d2f61c-f6c0-453f-bbaf-a94e20bfe25a",
   "metadata": {},
   "outputs": [],
   "source": [
    "# We previously need to select the active clinical entities:\n",
    "# Head of classification (flag=128), Historical entities (flag=512) & On-line (flag=1)\n",
    "indice_list=1\n",
    "all_active_clinical_entities=list()\n",
    "for (i in 1:length(product))\n",
    "  if (product[[i]]$DisorderFlagList$DisorderFlag$Value=='1' |\n",
    "      product[[i]]$DisorderFlagList$DisorderFlag$Value=='128' |\n",
    "      product[[i]]$DisorderFlagList$DisorderFlag$Value=='512')\n",
    "  {\n",
    "    all_active_clinical_entities[[indice_list]]=product[[i]]\n",
    "    indice_list=indice_list+1\n",
    "  }"
   ]
  },
  {
   "cell_type": "code",
   "execution_count": 63,
   "id": "0dbf4b85-b719-4258-88ee-ec6f2b52447a",
   "metadata": {},
   "outputs": [],
   "source": [
    "### We look for all the active clinical entities which have synonyms\n",
    "indice_list=1\n",
    "synonyms_total=list()\n",
    "for (i in 1:length(all_active_clinical_entities))\n",
    "{\n",
    "  synonyms_total[[indice_list]]=data.frame(as.numeric(all_active_clinical_entities[[i]]$SynonymList$.attrs))\n",
    "  indice_list=indice_list+1\n",
    "}\n",
    "synonyms_total=rbindlist(synonyms_total,use.names = TRUE)\n",
    "colnames(synonyms_total)=c('Number of synonyms')"
   ]
  },
  {
   "cell_type": "code",
   "execution_count": 64,
   "id": "e54a990b-2f3a-4eb4-b751-e29fe0f3cdd0",
   "metadata": {},
   "outputs": [
    {
     "data": {
      "text/html": [
       "12123"
      ],
      "text/latex": [
       "12123"
      ],
      "text/markdown": [
       "12123"
      ],
      "text/plain": [
       "[1] 12123"
      ]
     },
     "metadata": {},
     "output_type": "display_data"
    }
   ],
   "source": [
    "# Total number of synonyms\n",
    "total_number_synonyms=sum(synonyms_total)\n",
    "total_number_synonyms"
   ]
  },
  {
   "cell_type": "code",
   "execution_count": 65,
   "id": "cc40c374-eec4-4a7b-816b-a1232956a7cd",
   "metadata": {},
   "outputs": [
    {
     "data": {
      "text/plain": [
       " Number of synonyms\n",
       " Min.   : 0.000    \n",
       " 1st Qu.: 0.000    \n",
       " Median : 1.000    \n",
       " Mean   : 1.294    \n",
       " 3rd Qu.: 2.000    \n",
       " Max.   :18.000    "
      ]
     },
     "metadata": {},
     "output_type": "display_data"
    }
   ],
   "source": [
    "# Statistics about all synonyms in English\n",
    "stats_total_synonyms=summary(synonyms_total)\n",
    "stats_total_synonyms"
   ]
  },
  {
   "cell_type": "code",
   "execution_count": 66,
   "id": "4c006436-e69d-4a51-ab0d-24a1407a8ccc",
   "metadata": {},
   "outputs": [],
   "source": [
    "### We look for the groups of disorder which have synonyms\n",
    "indice_list=1\n",
    "synonyms_group=list()\n",
    "for (i in 1:length(all_active_clinical_entities))\n",
    "  if (all_active_clinical_entities[[i]]$DisorderGroup$.attrs=='36540')\n",
    "  {\n",
    "    synonyms_group[[indice_list]]=data.frame(as.numeric(all_active_clinical_entities[[i]]$SynonymList$.attrs))\n",
    "    indice_list=indice_list+1\n",
    "  }\n",
    "synonyms_group=rbindlist(synonyms_group,use.names = TRUE)\n",
    "colnames(synonyms_group)=c('Number of synonyms')"
   ]
  },
  {
   "cell_type": "code",
   "execution_count": 67,
   "id": "d80bca29-0f4e-4f21-b037-a34048357995",
   "metadata": {},
   "outputs": [
    {
     "data": {
      "text/html": [
       "1225"
      ],
      "text/latex": [
       "1225"
      ],
      "text/markdown": [
       "1225"
      ],
      "text/plain": [
       "[1] 1225"
      ]
     },
     "metadata": {},
     "output_type": "display_data"
    }
   ],
   "source": [
    "# Number of synonyms for groups of disorders in English\n",
    "number_synonyms_group=sum(synonyms_group)\n",
    "number_synonyms_group"
   ]
  },
  {
   "cell_type": "code",
   "execution_count": 68,
   "id": "61f8232c-33ef-468c-8cdd-f8b7eb03f7e6",
   "metadata": {},
   "outputs": [
    {
     "data": {
      "text/html": [
       "10.1047595479667"
      ],
      "text/latex": [
       "10.1047595479667"
      ],
      "text/markdown": [
       "10.1047595479667"
      ],
      "text/plain": [
       "[1] 10.10476"
      ]
     },
     "metadata": {},
     "output_type": "display_data"
    }
   ],
   "source": [
    "# Percentage of synonyms for groups of disorders in English\n",
    "percentage_synonyms_group=number_synonyms_group/total_number_synonyms*100\n",
    "percentage_synonyms_group"
   ]
  },
  {
   "cell_type": "code",
   "execution_count": 69,
   "id": "ae8620ce-c72f-4e3d-a425-cf0ed0400d31",
   "metadata": {},
   "outputs": [
    {
     "data": {
      "text/plain": [
       " Number of synonyms\n",
       " Min.   :0.0000    \n",
       " 1st Qu.:0.0000    \n",
       " Median :0.0000    \n",
       " Mean   :0.5757    \n",
       " 3rd Qu.:1.0000    \n",
       " Max.   :7.0000    "
      ]
     },
     "metadata": {},
     "output_type": "display_data"
    }
   ],
   "source": [
    "# Statistics about groups of disorder's synonyms in English\n",
    "stats_synonyms_group=summary(synonyms_group)\n",
    "stats_synonyms_group"
   ]
  },
  {
   "cell_type": "code",
   "execution_count": 70,
   "id": "6880ec0b-a717-4ec3-a1b9-3ca8e306423a",
   "metadata": {},
   "outputs": [],
   "source": [
    "### We look for the disorders which have synonyms\n",
    "indice_list=1\n",
    "synonyms_disorder=list()\n",
    "for (i in 1:length(all_active_clinical_entities))\n",
    "  if (all_active_clinical_entities[[i]]$DisorderGroup$.attrs=='36547')\n",
    "  {\n",
    "    synonyms_disorder[[indice_list]]=data.frame(as.numeric(all_active_clinical_entities[[i]]$SynonymList$.attrs))\n",
    "    indice_list=indice_list+1\n",
    "  }\n",
    "synonyms_disorder=rbindlist(synonyms_disorder,use.names = TRUE)\n",
    "colnames(synonyms_disorder)=c('Number of synonyms')"
   ]
  },
  {
   "cell_type": "code",
   "execution_count": 71,
   "id": "9ca6f25d-9566-4a46-a268-4b8a079c8581",
   "metadata": {},
   "outputs": [
    {
     "data": {
      "text/html": [
       "9192"
      ],
      "text/latex": [
       "9192"
      ],
      "text/markdown": [
       "9192"
      ],
      "text/plain": [
       "[1] 9192"
      ]
     },
     "metadata": {},
     "output_type": "display_data"
    }
   ],
   "source": [
    "# Number of synonyms for disorders in English\n",
    "number_synonyms_disorder=sum(synonyms_disorder)\n",
    "number_synonyms_disorder"
   ]
  },
  {
   "cell_type": "code",
   "execution_count": 72,
   "id": "a77caeb7-15f6-4a4f-ad27-f4dc06aec9e0",
   "metadata": {},
   "outputs": [
    {
     "data": {
      "text/html": [
       "75.8228161346201"
      ],
      "text/latex": [
       "75.8228161346201"
      ],
      "text/markdown": [
       "75.8228161346201"
      ],
      "text/plain": [
       "[1] 75.82282"
      ]
     },
     "metadata": {},
     "output_type": "display_data"
    }
   ],
   "source": [
    "### Percentage of synonyms for disorders in English\n",
    "percentage_synonyms_disorder=number_synonyms_disorder/total_number_synonyms*100\n",
    "percentage_synonyms_disorder"
   ]
  },
  {
   "cell_type": "code",
   "execution_count": 73,
   "id": "acfc7188-2b09-454f-bfb0-922eaeee1e1a",
   "metadata": {},
   "outputs": [
    {
     "data": {
      "text/plain": [
       " Number of synonyms\n",
       " Min.   : 0.000    \n",
       " 1st Qu.: 0.000    \n",
       " Median : 1.000    \n",
       " Mean   : 1.476    \n",
       " 3rd Qu.: 2.000    \n",
       " Max.   :18.000    "
      ]
     },
     "metadata": {},
     "output_type": "display_data"
    }
   ],
   "source": [
    "# Statistics about disorder' synonyms in English\n",
    "stats_synonyms_disorder=summary(synonyms_disorder)\n",
    "stats_synonyms_disorder"
   ]
  },
  {
   "cell_type": "code",
   "execution_count": 74,
   "id": "a6323bd1-8ff0-48f3-ae10-25b9a3f42131",
   "metadata": {},
   "outputs": [],
   "source": [
    "### We look for the subtypes of disorder which have synonyms\n",
    "indice_list=1\n",
    "synonyms_subtype=list()\n",
    "for (i in 1:length(all_active_clinical_entities))\n",
    "  if (all_active_clinical_entities[[i]]$DisorderGroup$.attrs=='36554')\n",
    "  {\n",
    "    synonyms_subtype[[indice_list]]=data.frame(as.numeric(all_active_clinical_entities[[i]]$SynonymList$.attrs))\n",
    "    indice_list=indice_list+1\n",
    "  }\n",
    "synonyms_subtype=rbindlist(synonyms_subtype,use.names = TRUE)\n",
    "colnames(synonyms_subtype)=c('Number of synonyms')"
   ]
  },
  {
   "cell_type": "code",
   "execution_count": 75,
   "id": "ba53fd1c-877a-4ab6-ad0e-8f14b8cbd9ba",
   "metadata": {},
   "outputs": [
    {
     "data": {
      "text/html": [
       "1706"
      ],
      "text/latex": [
       "1706"
      ],
      "text/markdown": [
       "1706"
      ],
      "text/plain": [
       "[1] 1706"
      ]
     },
     "metadata": {},
     "output_type": "display_data"
    }
   ],
   "source": [
    "# Number of synonyms for subtypes of disorders in English\n",
    "number_synonyms_subtype=sum(synonyms_subtype)\n",
    "number_synonyms_subtype"
   ]
  },
  {
   "cell_type": "code",
   "execution_count": 76,
   "id": "8322caaf-471a-4ca9-8e1c-430ceb227049",
   "metadata": {},
   "outputs": [
    {
     "data": {
      "text/html": [
       "14.0724243174132"
      ],
      "text/latex": [
       "14.0724243174132"
      ],
      "text/markdown": [
       "14.0724243174132"
      ],
      "text/plain": [
       "[1] 14.07242"
      ]
     },
     "metadata": {},
     "output_type": "display_data"
    }
   ],
   "source": [
    "# Percentage of synonyms for subtypes of disorders in English\n",
    "percentage_synonyms_subtype=number_synonyms_subtype/total_number_synonyms*100\n",
    "percentage_synonyms_subtype"
   ]
  },
  {
   "cell_type": "code",
   "execution_count": 77,
   "id": "09b2e630-151b-4d82-8624-95d47af3e681",
   "metadata": {},
   "outputs": [
    {
     "data": {
      "text/plain": [
       " Number of synonyms\n",
       " Min.   : 0.000    \n",
       " 1st Qu.: 0.000    \n",
       " Median : 1.000    \n",
       " Mean   : 1.682    \n",
       " 3rd Qu.: 2.000    \n",
       " Max.   :15.000    "
      ]
     },
     "metadata": {},
     "output_type": "display_data"
    }
   ],
   "source": [
    "# Statistics about subtypes of disorder's synonyms in English\n",
    "stats_synonyms_subtype=summary(synonyms_subtype)\n",
    "stats_synonyms_subtype"
   ]
  },
  {
   "cell_type": "code",
   "execution_count": 78,
   "id": "18557bd9-d8ea-465b-b880-fc23fca96244",
   "metadata": {},
   "outputs": [],
   "source": [
    "###############################################################################################\n",
    "\n",
    "\n",
    "##### Number of nomenclature terms (preferred terms + synonyms)\n",
    "\n",
    "\n",
    "### We look for the groups of disorder which have preferred terms\n",
    "indice_list=1\n",
    "preferred_terms_group=list()\n",
    "for (i in 1:length(all_active_clinical_entities))\n",
    "  if (all_active_clinical_entities[[i]]$DisorderGroup$.attrs=='36540')\n",
    "  {\n",
    "    preferred_terms_group[[indice_list]]=data.frame(all_active_clinical_entities[[i]]$Name$text)\n",
    "    indice_list=indice_list+1\n",
    "  }\n",
    "preferred_terms_group=rbindlist(preferred_terms_group)\n",
    "preferred_terms_group=preferred_terms_group[!duplicated(preferred_terms_group)]\n",
    "names(preferred_terms_group)=c('Preferred_terms')"
   ]
  },
  {
   "cell_type": "code",
   "execution_count": 79,
   "id": "d5d5dbe4-9c70-4418-ae92-ed330585593f",
   "metadata": {},
   "outputs": [
    {
     "data": {
      "text/html": [
       "2128"
      ],
      "text/latex": [
       "2128"
      ],
      "text/markdown": [
       "2128"
      ],
      "text/plain": [
       "[1] 2128"
      ]
     },
     "metadata": {},
     "output_type": "display_data"
    }
   ],
   "source": [
    "# Number of preferred terms for groups of disorder in English\n",
    "number_preferred_terms_group=nrow(preferred_terms_group)\n",
    "number_preferred_terms_group"
   ]
  },
  {
   "cell_type": "code",
   "execution_count": 80,
   "id": "87f7212a-a763-42fc-83c7-2f645f6fe227",
   "metadata": {},
   "outputs": [
    {
     "data": {
      "text/html": [
       "3353"
      ],
      "text/latex": [
       "3353"
      ],
      "text/markdown": [
       "3353"
      ],
      "text/plain": [
       "[1] 3353"
      ]
     },
     "metadata": {},
     "output_type": "display_data"
    }
   ],
   "source": [
    "# Number of nomenclature terms (preferred terms + synonyms) for groups of disorders in English\n",
    "number_nomenclature_terms_group=number_synonyms_group + number_preferred_terms_group\n",
    "number_nomenclature_terms_group"
   ]
  },
  {
   "cell_type": "code",
   "execution_count": 81,
   "id": "5157a72d-fe66-47ea-acc3-90dee206d60e",
   "metadata": {},
   "outputs": [],
   "source": [
    "### We look for the disorders which have preferred terms\n",
    "indice_list=1\n",
    "preferred_terms_disorder=list()\n",
    "for (i in 1:length(all_active_clinical_entities))\n",
    "  if (all_active_clinical_entities[[i]]$DisorderGroup$.attrs=='36547')\n",
    "  {\n",
    "    preferred_terms_disorder[[indice_list]]=data.frame(all_active_clinical_entities[[i]]$Name$text)\n",
    "    indice_list=indice_list+1\n",
    "  }\n",
    "preferred_terms_disorder=rbindlist(preferred_terms_disorder)\n",
    "preferred_terms_disorder=preferred_terms_disorder[!duplicated(preferred_terms_disorder)]\n",
    "names(preferred_terms_disorder)=c('Preferred_terms')"
   ]
  },
  {
   "cell_type": "code",
   "execution_count": 82,
   "id": "07381706-598f-43ec-87d6-88a1682f346a",
   "metadata": {},
   "outputs": [
    {
     "data": {
      "text/html": [
       "6227"
      ],
      "text/latex": [
       "6227"
      ],
      "text/markdown": [
       "6227"
      ],
      "text/plain": [
       "[1] 6227"
      ]
     },
     "metadata": {},
     "output_type": "display_data"
    }
   ],
   "source": [
    "# Number of preferred terms for disorders in English\n",
    "number_preferred_terms_disorder=nrow(preferred_terms_disorder)\n",
    "number_preferred_terms_disorder"
   ]
  },
  {
   "cell_type": "code",
   "execution_count": 83,
   "id": "352e2c83-b4d7-4097-b555-96021af76a7f",
   "metadata": {},
   "outputs": [
    {
     "data": {
      "text/html": [
       "15419"
      ],
      "text/latex": [
       "15419"
      ],
      "text/markdown": [
       "15419"
      ],
      "text/plain": [
       "[1] 15419"
      ]
     },
     "metadata": {},
     "output_type": "display_data"
    }
   ],
   "source": [
    "# Number of nomenclature terms (preferred terms + synonyms) for disorders in English\n",
    "number_nomenclature_terms_disorder=number_synonyms_disorder + number_preferred_terms_disorder\n",
    "number_nomenclature_terms_disorder"
   ]
  },
  {
   "cell_type": "code",
   "execution_count": 84,
   "id": "4a52ab6d-f4f4-4c9b-bd03-b34a902682ee",
   "metadata": {},
   "outputs": [],
   "source": [
    "### We look for the subtypes of disorder which have preferred terms\n",
    "indice_list=1\n",
    "preferred_terms_subtype=list()\n",
    "for (i in 1:length(all_active_clinical_entities))\n",
    "  if (all_active_clinical_entities[[i]]$DisorderGroup$.attrs=='36554')\n",
    "  {\n",
    "    preferred_terms_subtype[[indice_list]]=data.frame(all_active_clinical_entities[[i]]$Name$text)\n",
    "    indice_list=indice_list+1\n",
    "  }\n",
    "preferred_terms_subtype=rbindlist(preferred_terms_subtype)\n",
    "preferred_terms_subtype=preferred_terms_subtype[!duplicated(preferred_terms_subtype)]\n",
    "names(preferred_terms_subtype)=c('Preferred_terms')"
   ]
  },
  {
   "cell_type": "code",
   "execution_count": 85,
   "id": "23c72eec-c363-47c7-b52e-00e30f1b9e7c",
   "metadata": {},
   "outputs": [
    {
     "data": {
      "text/html": [
       "1014"
      ],
      "text/latex": [
       "1014"
      ],
      "text/markdown": [
       "1014"
      ],
      "text/plain": [
       "[1] 1014"
      ]
     },
     "metadata": {},
     "output_type": "display_data"
    }
   ],
   "source": [
    "# Number of preferred terms for subtypes of disorder in English\n",
    "number_preferred_terms_subtype=nrow(preferred_terms_subtype)\n",
    "number_preferred_terms_subtype"
   ]
  },
  {
   "cell_type": "code",
   "execution_count": 86,
   "id": "46be196a-1128-492f-8e9e-eaa9309b3c66",
   "metadata": {},
   "outputs": [
    {
     "data": {
      "text/html": [
       "2720"
      ],
      "text/latex": [
       "2720"
      ],
      "text/markdown": [
       "2720"
      ],
      "text/plain": [
       "[1] 2720"
      ]
     },
     "metadata": {},
     "output_type": "display_data"
    }
   ],
   "source": [
    "# Number of nomenclature terms (preferred terms + synonyms) for groups of disorders in English\n",
    "number_nomenclature_terms_subtype=number_synonyms_subtype + number_preferred_terms_subtype\n",
    "number_nomenclature_terms_subtype"
   ]
  },
  {
   "cell_type": "code",
   "execution_count": 87,
   "id": "fe120c8e-0fde-4a13-8fe3-a32f827b5c21",
   "metadata": {},
   "outputs": [
    {
     "data": {
      "text/html": [
       "21492"
      ],
      "text/latex": [
       "21492"
      ],
      "text/markdown": [
       "21492"
      ],
      "text/plain": [
       "[1] 21492"
      ]
     },
     "metadata": {},
     "output_type": "display_data"
    }
   ],
   "source": [
    "### Total number of nomenclature terms for active clinical entities in English\n",
    "total_number_nomenclature_terms=number_nomenclature_terms_subtype + \n",
    "                                number_nomenclature_terms_disorder +\n",
    "                                number_nomenclature_terms_group\n",
    "total_number_nomenclature_terms"
   ]
  }
 ],
 "metadata": {
  "kernelspec": {
   "display_name": "R",
   "language": "R",
   "name": "ir"
  },
  "language_info": {
   "codemirror_mode": "r",
   "file_extension": ".r",
   "mimetype": "text/x-r-source",
   "name": "R",
   "pygments_lexer": "r",
   "version": "4.2.1"
  }
 },
 "nbformat": 4,
 "nbformat_minor": 5
}

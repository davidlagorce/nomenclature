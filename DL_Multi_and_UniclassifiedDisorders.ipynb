{
 "cells": [
  {
   "cell_type": "code",
   "execution_count": 1,
   "id": "5ccfdbd2-0baa-49c0-8e2a-cc6e0ab7ec9a",
   "metadata": {},
   "outputs": [],
   "source": [
    "library(jsonlite)\n",
    "library(rlist)\n",
    "library(data.table)\n",
    "suppressPackageStartupMessages(library(\"dplyr\"))\n",
    "library(XML)\n",
    "library(methods)"
   ]
  },
  {
   "cell_type": "code",
   "execution_count": 2,
   "id": "4998c6bc-9d10-4e47-a160-1b7f3b9058eb",
   "metadata": {},
   "outputs": [],
   "source": [
    "# We select the xmls with the datas we need\n",
    "setwd('/home/jovyan/xml/')\n"
   ]
  },
  {
   "cell_type": "code",
   "execution_count": 3,
   "id": "2b3608b2-6739-4a06-bac4-7c55cbfc7bff",
   "metadata": {
    "tags": []
   },
   "outputs": [],
   "source": [
    "suppressWarnings({\n",
    "    options(stringsAsFactors = FALSE)\n",
    "# Open different xml in the same time\n",
    "# We select the xmls with the datas we need\n",
    "xmlfiles=list.files(pattern='product3')\n",
    "# We remove the datas about genetic disorders, they have no interest here\n",
    "xmlfiles=xmlfiles[!xmlfiles=='en_product3_156.xml']\n",
    "# We put the 35 xml files from  orphadata in data frames\n",
    "indice_list=1\n",
    "xmldoc=list()\n",
    "products3=list()\n",
    "    for (i in 1:length(xmlfiles)) \n",
    "{\n",
    "  xmldoc[[indice_list]]=xmlParse(xmlfiles[i]) \n",
    "  products3[[indice_list]]=xmlToList(xmldoc[[indice_list]])\n",
    "  indice_list=indice_list+1\n",
    "}\n",
    "    \n",
    "})"
   ]
  },
  {
   "cell_type": "code",
   "execution_count": 4,
   "id": "2918cb59-f95d-45a1-a15d-a343c7e25282",
   "metadata": {},
   "outputs": [],
   "source": [
    "# We get the Classification information\n",
    "prods3=list()\n",
    "for (i in 1:length(products3))\n",
    "{\n",
    "  prods3[[i]]=unlist(products3[[i]]$ClassificationList)\n",
    "}\n",
    "# Each element in the list is a disorder"
   ]
  },
  {
   "cell_type": "code",
   "execution_count": 5,
   "id": "596c1b69-f8c4-48b6-a2da-b24a29b4fa07",
   "metadata": {},
   "outputs": [],
   "source": [
    "# We get the OrphaCode and the DisorderType for each disorder\n",
    "disordertype = list()\n",
    "OrphaCode = list()\n",
    "indice_orpha = 1\n",
    "indice_disordertype = 1\n",
    "for (i in 1:length(prods3))\n",
    "  for (j in 1:length(prods3[[i]])) \n",
    "    if (grepl(\"Disorder.OrphaCode\", names(prods3[[i]][j]))) {\n",
    "      OrphaCode[[indice_orpha]] = data.frame(classification = prods3[[i]][2],\n",
    "                                             OrphaCode = prods3[[i]][j])\n",
    "      indice_orpha = indice_orpha + 1\n",
    "    } else if (grepl(\"DisorderType..attrs.id\", names(prods3[[i]][j]))) {\n",
    "      disordertype[[indice_disordertype]] = data.frame(classification = prods3[[i]][2],\n",
    "                                                       disordertype = prods3[[i]][j])\n",
    "      indice_disordertype = indice_disordertype + 1\n",
    "    } \n",
    "\n",
    "disordertype = rbindlist(disordertype)\n",
    "OrphaCode = rbindlist(OrphaCode)"
   ]
  },
  {
   "cell_type": "code",
   "execution_count": 6,
   "id": "3a01e3bc-1b54-4601-bc93-7bca2db697a7",
   "metadata": {},
   "outputs": [],
   "source": [
    "# We only keep Disorders\n",
    "disorders = cbind.data.frame(OrphaCode, disordertype = disordertype$disordertype)\n",
    "\n",
    "disorders = filter(disorders, !duplicated(disorders))\n",
    "disorders = filter(disorders, disordertype == \"21429\" |\n",
    "                     disordertype == \"21401\" |\n",
    "                     disordertype == \"21415\" |\n",
    "                     disordertype == \"21394\" |\n",
    "                     disordertype == \"21422\" |\n",
    "                     disordertype == \"21408\")"
   ]
  },
  {
   "cell_type": "code",
   "execution_count": 7,
   "id": "735a7ac8-b1d0-40d8-93fa-9840552b8dfc",
   "metadata": {},
   "outputs": [],
   "source": [
    "# We count how much times an OrphaCode is duplicated\n",
    "table_count=as.data.frame(table(disorders$OrphaCode))\n",
    "names(table_count)=c('OrphaCode','Number of classifications')\n",
    "table_count=filter(table_count, `Number of classifications` > 0)"
   ]
  },
  {
   "cell_type": "code",
   "execution_count": 10,
   "id": "9a55478d-782d-4e05-9856-cdcb9f455a13",
   "metadata": {},
   "outputs": [],
   "source": [
    "# We look for ORPHAcodes which are duplicated at least once\n",
    "indice_list=1\n",
    "duplicates=list()\n",
    "for (i in 1:nrow(table_count))\n",
    "  if (table_count$`Number of classifications`[i] > 1)\n",
    "  {\n",
    "    duplicates[[indice_list]]=table_count[i, ]\n",
    "    indice_list=indice_list+1\n",
    "  }\n",
    "duplicates=rbindlist(duplicates,use.names = TRUE)"
   ]
  },
  {
   "cell_type": "code",
   "execution_count": 11,
   "id": "664473a7-2006-41e1-b51a-231538fd3ce6",
   "metadata": {},
   "outputs": [
    {
     "name": "stdout",
     "output_type": "stream",
     "text": [
      "[1] \"The number of disorders multiclassified is 4186\"\n",
      "[1] \"The percentage of disorders multiclassified is 67.32%\"\n"
     ]
    }
   ],
   "source": [
    "# Multiclassified disorders\n",
    "number_of_disorders_multiclassified=nrow(duplicates)\n",
    "percentage_of_number_of_disorders_multiclassified=number_of_disorders_multiclassified/nrow(table_count)*100\n",
    "print(paste0(\"The number of disorders multiclassified is \", number_of_disorders_multiclassified))\n",
    "print(paste0(\"The percentage of disorders multiclassified is \", round(percentage_of_number_of_disorders_multiclassified, digits = 2), \"%\"))"
   ]
  },
  {
   "cell_type": "code",
   "execution_count": 12,
   "id": "000d192a-c706-4431-a63d-4f032fe701dc",
   "metadata": {},
   "outputs": [
    {
     "name": "stdout",
     "output_type": "stream",
     "text": [
      "[1] \"The number of disorders uniclassified is 2032\"\n",
      "[1] \"The percentage of disorders uniclassified is 32.68%\"\n"
     ]
    }
   ],
   "source": [
    "# Uniclassified disorders\n",
    "number_of_disorders_uniclassified=nrow(table_count) - number_of_disorders_multiclassified\n",
    "percentage_of_number_of_disorders_uniclassified=number_of_disorders_uniclassified/nrow(table_count)*100\n",
    "print(paste0(\"The number of disorders uniclassified is \", number_of_disorders_uniclassified))\n",
    "print(paste0(\"The percentage of disorders uniclassified is \", round(percentage_of_number_of_disorders_uniclassified, digits = 2), \"%\"))\n"
   ]
  },
  {
   "cell_type": "code",
   "execution_count": 13,
   "id": "ef49694c-dd44-4557-ba3a-fb53c031ee76",
   "metadata": {},
   "outputs": [
    {
     "data": {
      "text/plain": [
       "   Min. 1st Qu.  Median    Mean 3rd Qu.    Max. \n",
       "  1.000   1.000   2.000   2.303   3.000  13.000 "
      ]
     },
     "metadata": {},
     "output_type": "display_data"
    }
   ],
   "source": [
    "### Stats : min/max, mean, median of the number of classifications for the disorders\n",
    "summary(table_count$`Number of classifications`)"
   ]
  },
  {
   "cell_type": "code",
   "execution_count": null,
   "id": "5ae43a79-f4f8-4e03-a086-e5317fd75668",
   "metadata": {},
   "outputs": [],
   "source": []
  }
 ],
 "metadata": {
  "kernelspec": {
   "display_name": "R",
   "language": "R",
   "name": "ir"
  },
  "language_info": {
   "codemirror_mode": "r",
   "file_extension": ".r",
   "mimetype": "text/x-r-source",
   "name": "R",
   "pygments_lexer": "r",
   "version": "4.2.1"
  }
 },
 "nbformat": 4,
 "nbformat_minor": 5
}

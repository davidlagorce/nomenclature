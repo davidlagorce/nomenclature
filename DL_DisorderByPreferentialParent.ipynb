{
 "cells": [
  {
   "cell_type": "code",
   "execution_count": 4,
   "id": "4b31ab91-a5c1-48c3-8e40-5eaaf9ea1142",
   "metadata": {},
   "outputs": [],
   "source": [
    "#######################################################\n",
    "###                                                 ###\n",
    "###   /!\\  RUN DL_LoadProduct1.ipynb BEFORE   /!\\   ###\n",
    "###                                                 ###\n",
    "#######################################################"
   ]
  },
  {
   "cell_type": "code",
   "execution_count": 4,
   "id": "e6d243a1-f0d1-413c-a94b-bce49eb2d8b3",
   "metadata": {},
   "outputs": [],
   "source": [
    "library(jsonlite)\n",
    "library(rlist)\n",
    "library(data.table)\n",
    "suppressPackageStartupMessages(library(\"dplyr\"))\n",
    "library(XML)\n",
    "library(methods)"
   ]
  },
  {
   "cell_type": "code",
   "execution_count": 5,
   "id": "6d8f46b2-2dee-4a3c-a657-2f880b8aea91",
   "metadata": {},
   "outputs": [],
   "source": [
    "load(file = \"all_active_clinical_entities.Rdata\")"
   ]
  },
  {
   "cell_type": "code",
   "execution_count": 6,
   "id": "615db69e-8869-4623-9e8b-11316e148f18",
   "metadata": {},
   "outputs": [
    {
     "data": {
      "text/html": [
       "9339"
      ],
      "text/latex": [
       "9339"
      ],
      "text/markdown": [
       "9339"
      ],
      "text/plain": [
       "[1] 9339"
      ]
     },
     "metadata": {},
     "output_type": "display_data"
    }
   ],
   "source": [
    "number_all_active_clinical_entities=length(all_active_clinical_entities)\n",
    "number_all_active_clinical_entities"
   ]
  },
  {
   "cell_type": "code",
   "execution_count": 7,
   "id": "3b3cdca8-4850-4c31-9b3b-0eb40bdd9301",
   "metadata": {},
   "outputs": [],
   "source": [
    "### Number of disorders\n",
    "indice_list=1\n",
    "disorders=list()\n",
    "for (i in 1:length(all_active_clinical_entities))\n",
    "  if (all_active_clinical_entities[[i]]$DisorderGroup$.attrs=='36547')\n",
    "  {\n",
    "    disorders[[indice_list]]=all_active_clinical_entities[[i]]\n",
    "    indice_list=indice_list+1\n",
    "  }"
   ]
  },
  {
   "cell_type": "code",
   "execution_count": 8,
   "id": "6c41e967-383a-4e61-bf1f-13d272fcd9e3",
   "metadata": {},
   "outputs": [],
   "source": [
    "# We keep the OrphaCodes of the disorders\n",
    "orphacode_disorders=list()\n",
    "for (i in 1:length(disorders))\n",
    "{\n",
    "  orphacode_disorders[[i]]=data.frame(disorders[[i]]$OrphaCode)\n",
    "}\n",
    "orphacode_disorders=rbindlist(orphacode_disorders)\n",
    "names(orphacode_disorders)=c('OrphaCode')"
   ]
  },
  {
   "cell_type": "code",
   "execution_count": 9,
   "id": "9fb59270-2e76-4d60-9d33-bf5d27d84bfb",
   "metadata": {},
   "outputs": [],
   "source": [
    "# We select the xmls with the datas we need\n",
    "setwd('/home/jovyan/xml/')"
   ]
  },
  {
   "cell_type": "code",
   "execution_count": 10,
   "id": "e2d8a847-b333-45b7-a9d6-005888913ed3",
   "metadata": {},
   "outputs": [],
   "source": [
    "# We can now work on preferential parents\n",
    "# We select the xml with the datas we need\n",
    "\n",
    "### NEED TO SEE WHY ALL PRODUCTS 7 LANGS !!!!!!\n",
    "\n",
    "xmlfiles = list.files(pattern='product7.xml')\n",
    "product7=xmlToList(xmlfiles)\n",
    "\n",
    "# Our list for working\n",
    "product7=product7$DisorderList\n",
    "indice_list=1\n",
    "product7_list=list()\n",
    "for (i in 1:length(product7))\n",
    "{\n",
    "  product7_list[[indice_list]]=product7[[i]]\n",
    "  indice_list=indice_list+1\n",
    "}\n",
    "# Each element in the list is a disorder"
   ]
  },
  {
   "cell_type": "code",
   "execution_count": 11,
   "id": "f6aaf49f-2009-48c8-ba40-60e8437deac7",
   "metadata": {},
   "outputs": [],
   "source": [
    "# We keep only the disorders which have a preferential parent\n",
    "indice_list=1\n",
    "disorders_with_preferential_parent=list()\n",
    "for (i in 1:(length(product7_list)-1))\n",
    "  if ('TargetDisorder' %in% names(product7_list[[i]]$DisorderDisorderAssociationList$DisorderDisorderAssociation))\n",
    "  {\n",
    "    disorders_with_preferential_parent[[indice_list]]=data.frame(product7_list[[i]]$OrphaCode, \n",
    "                                                                 product7_list[[i]]$DisorderDisorderAssociationList$DisorderDisorderAssociation$TargetDisorder$Name$text)\n",
    "    indice_list=indice_list+1\n",
    "  }\n",
    "disorders_with_preferential_parent=rbindlist(disorders_with_preferential_parent,use.names = TRUE)\n",
    "names(disorders_with_preferential_parent)=c('OrphaCode', 'Preferential parent')"
   ]
  },
  {
   "cell_type": "code",
   "execution_count": 12,
   "id": "42ca8383-ca7c-4416-ab80-3fcb75308bb1",
   "metadata": {},
   "outputs": [],
   "source": [
    "# We keep only those which are active disorders\n",
    "active_preferential_parent=merge(orphacode_disorders, disorders_with_preferential_parent,\n",
    "                                 by='OrphaCode', all.x = TRUE)"
   ]
  },
  {
   "cell_type": "code",
   "execution_count": 13,
   "id": "f5d30ab3-0789-4527-8118-9ba6a0446a06",
   "metadata": {},
   "outputs": [
    {
     "data": {
      "text/html": [
       "<table class=\"dataframe\">\n",
       "<caption>A data.frame: 30 × 2</caption>\n",
       "<thead>\n",
       "\t<tr><th scope=col>Preferential parent</th><th scope=col>Distribution</th></tr>\n",
       "\t<tr><th scope=col>&lt;fct&gt;</th><th scope=col>&lt;int&gt;</th></tr>\n",
       "</thead>\n",
       "<tbody>\n",
       "\t<tr><td>Rare abdominal surgical disease                                                         </td><td>   7</td></tr>\n",
       "\t<tr><td>Rare bone disease                                                                       </td><td> 354</td></tr>\n",
       "\t<tr><td>Rare cardiac disease                                                                    </td><td>  46</td></tr>\n",
       "\t<tr><td>Rare circulatory system disease                                                         </td><td>  19</td></tr>\n",
       "\t<tr><td>Rare developmental defect during embryogenesis                                          </td><td>1968</td></tr>\n",
       "\t<tr><td>Rare disorder due to toxic effects                                                      </td><td>  25</td></tr>\n",
       "\t<tr><td>Rare disorder potentially indicated for transplant or complication after transplantation</td><td>   2</td></tr>\n",
       "\t<tr><td>Rare endocrine disease                                                                  </td><td> 185</td></tr>\n",
       "\t<tr><td>Rare gastroenterologic disease                                                          </td><td>  74</td></tr>\n",
       "\t<tr><td>Rare genetic disease                                                                    </td><td>   4</td></tr>\n",
       "\t<tr><td>Rare gynecologic or obstetric disease                                                   </td><td>  12</td></tr>\n",
       "\t<tr><td>Rare hematologic disease                                                                </td><td> 170</td></tr>\n",
       "\t<tr><td>Rare hepatic disease                                                                    </td><td>  57</td></tr>\n",
       "\t<tr><td>Rare immune disease                                                                     </td><td> 155</td></tr>\n",
       "\t<tr><td>Rare inborn errors of metabolism                                                        </td><td> 384</td></tr>\n",
       "\t<tr><td>Rare infectious disease                                                                 </td><td> 159</td></tr>\n",
       "\t<tr><td>Rare infertility                                                                        </td><td>   6</td></tr>\n",
       "\t<tr><td>Rare maxillo-facial surgical disease                                                    </td><td>   7</td></tr>\n",
       "\t<tr><td>Rare neoplastic disease                                                                 </td><td> 467</td></tr>\n",
       "\t<tr><td>Rare neurologic disease                                                                 </td><td>1022</td></tr>\n",
       "\t<tr><td>Rare odontologic disease                                                                </td><td>  15</td></tr>\n",
       "\t<tr><td>Rare ophthalmic disorder                                                                </td><td> 230</td></tr>\n",
       "\t<tr><td>Rare otorhinolaryngologic disease                                                       </td><td>  44</td></tr>\n",
       "\t<tr><td>Rare renal disease                                                                      </td><td>  79</td></tr>\n",
       "\t<tr><td>Rare respiratory disease                                                                </td><td>  75</td></tr>\n",
       "\t<tr><td>Rare skin disease                                                                       </td><td> 384</td></tr>\n",
       "\t<tr><td>Rare surgical cardiac disease                                                           </td><td>   1</td></tr>\n",
       "\t<tr><td>Rare surgical thoracic disease                                                          </td><td>   1</td></tr>\n",
       "\t<tr><td>Rare systemic or rheumatologic disease                                                  </td><td> 152</td></tr>\n",
       "\t<tr><td>Rare urogenital disease                                                                 </td><td>   7</td></tr>\n",
       "</tbody>\n",
       "</table>\n"
      ],
      "text/latex": [
       "A data.frame: 30 × 2\n",
       "\\begin{tabular}{ll}\n",
       " Preferential parent & Distribution\\\\\n",
       " <fct> & <int>\\\\\n",
       "\\hline\n",
       "\t Rare abdominal surgical disease                                                          &    7\\\\\n",
       "\t Rare bone disease                                                                        &  354\\\\\n",
       "\t Rare cardiac disease                                                                     &   46\\\\\n",
       "\t Rare circulatory system disease                                                          &   19\\\\\n",
       "\t Rare developmental defect during embryogenesis                                           & 1968\\\\\n",
       "\t Rare disorder due to toxic effects                                                       &   25\\\\\n",
       "\t Rare disorder potentially indicated for transplant or complication after transplantation &    2\\\\\n",
       "\t Rare endocrine disease                                                                   &  185\\\\\n",
       "\t Rare gastroenterologic disease                                                           &   74\\\\\n",
       "\t Rare genetic disease                                                                     &    4\\\\\n",
       "\t Rare gynecologic or obstetric disease                                                    &   12\\\\\n",
       "\t Rare hematologic disease                                                                 &  170\\\\\n",
       "\t Rare hepatic disease                                                                     &   57\\\\\n",
       "\t Rare immune disease                                                                      &  155\\\\\n",
       "\t Rare inborn errors of metabolism                                                         &  384\\\\\n",
       "\t Rare infectious disease                                                                  &  159\\\\\n",
       "\t Rare infertility                                                                         &    6\\\\\n",
       "\t Rare maxillo-facial surgical disease                                                     &    7\\\\\n",
       "\t Rare neoplastic disease                                                                  &  467\\\\\n",
       "\t Rare neurologic disease                                                                  & 1022\\\\\n",
       "\t Rare odontologic disease                                                                 &   15\\\\\n",
       "\t Rare ophthalmic disorder                                                                 &  230\\\\\n",
       "\t Rare otorhinolaryngologic disease                                                        &   44\\\\\n",
       "\t Rare renal disease                                                                       &   79\\\\\n",
       "\t Rare respiratory disease                                                                 &   75\\\\\n",
       "\t Rare skin disease                                                                        &  384\\\\\n",
       "\t Rare surgical cardiac disease                                                            &    1\\\\\n",
       "\t Rare surgical thoracic disease                                                           &    1\\\\\n",
       "\t Rare systemic or rheumatologic disease                                                   &  152\\\\\n",
       "\t Rare urogenital disease                                                                  &    7\\\\\n",
       "\\end{tabular}\n"
      ],
      "text/markdown": [
       "\n",
       "A data.frame: 30 × 2\n",
       "\n",
       "| Preferential parent &lt;fct&gt; | Distribution &lt;int&gt; |\n",
       "|---|---|\n",
       "| Rare abdominal surgical disease                                                          |    7 |\n",
       "| Rare bone disease                                                                        |  354 |\n",
       "| Rare cardiac disease                                                                     |   46 |\n",
       "| Rare circulatory system disease                                                          |   19 |\n",
       "| Rare developmental defect during embryogenesis                                           | 1968 |\n",
       "| Rare disorder due to toxic effects                                                       |   25 |\n",
       "| Rare disorder potentially indicated for transplant or complication after transplantation |    2 |\n",
       "| Rare endocrine disease                                                                   |  185 |\n",
       "| Rare gastroenterologic disease                                                           |   74 |\n",
       "| Rare genetic disease                                                                     |    4 |\n",
       "| Rare gynecologic or obstetric disease                                                    |   12 |\n",
       "| Rare hematologic disease                                                                 |  170 |\n",
       "| Rare hepatic disease                                                                     |   57 |\n",
       "| Rare immune disease                                                                      |  155 |\n",
       "| Rare inborn errors of metabolism                                                         |  384 |\n",
       "| Rare infectious disease                                                                  |  159 |\n",
       "| Rare infertility                                                                         |    6 |\n",
       "| Rare maxillo-facial surgical disease                                                     |    7 |\n",
       "| Rare neoplastic disease                                                                  |  467 |\n",
       "| Rare neurologic disease                                                                  | 1022 |\n",
       "| Rare odontologic disease                                                                 |   15 |\n",
       "| Rare ophthalmic disorder                                                                 |  230 |\n",
       "| Rare otorhinolaryngologic disease                                                        |   44 |\n",
       "| Rare renal disease                                                                       |   79 |\n",
       "| Rare respiratory disease                                                                 |   75 |\n",
       "| Rare skin disease                                                                        |  384 |\n",
       "| Rare surgical cardiac disease                                                            |    1 |\n",
       "| Rare surgical thoracic disease                                                           |    1 |\n",
       "| Rare systemic or rheumatologic disease                                                   |  152 |\n",
       "| Rare urogenital disease                                                                  |    7 |\n",
       "\n"
      ],
      "text/plain": [
       "   Preferential parent                                                                     \n",
       "1  Rare abdominal surgical disease                                                         \n",
       "2  Rare bone disease                                                                       \n",
       "3  Rare cardiac disease                                                                    \n",
       "4  Rare circulatory system disease                                                         \n",
       "5  Rare developmental defect during embryogenesis                                          \n",
       "6  Rare disorder due to toxic effects                                                      \n",
       "7  Rare disorder potentially indicated for transplant or complication after transplantation\n",
       "8  Rare endocrine disease                                                                  \n",
       "9  Rare gastroenterologic disease                                                          \n",
       "10 Rare genetic disease                                                                    \n",
       "11 Rare gynecologic or obstetric disease                                                   \n",
       "12 Rare hematologic disease                                                                \n",
       "13 Rare hepatic disease                                                                    \n",
       "14 Rare immune disease                                                                     \n",
       "15 Rare inborn errors of metabolism                                                        \n",
       "16 Rare infectious disease                                                                 \n",
       "17 Rare infertility                                                                        \n",
       "18 Rare maxillo-facial surgical disease                                                    \n",
       "19 Rare neoplastic disease                                                                 \n",
       "20 Rare neurologic disease                                                                 \n",
       "21 Rare odontologic disease                                                                \n",
       "22 Rare ophthalmic disorder                                                                \n",
       "23 Rare otorhinolaryngologic disease                                                       \n",
       "24 Rare renal disease                                                                      \n",
       "25 Rare respiratory disease                                                                \n",
       "26 Rare skin disease                                                                       \n",
       "27 Rare surgical cardiac disease                                                           \n",
       "28 Rare surgical thoracic disease                                                          \n",
       "29 Rare systemic or rheumatologic disease                                                  \n",
       "30 Rare urogenital disease                                                                 \n",
       "   Distribution\n",
       "1     7        \n",
       "2   354        \n",
       "3    46        \n",
       "4    19        \n",
       "5  1968        \n",
       "6    25        \n",
       "7     2        \n",
       "8   185        \n",
       "9    74        \n",
       "10    4        \n",
       "11   12        \n",
       "12  170        \n",
       "13   57        \n",
       "14  155        \n",
       "15  384        \n",
       "16  159        \n",
       "17    6        \n",
       "18    7        \n",
       "19  467        \n",
       "20 1022        \n",
       "21   15        \n",
       "22  230        \n",
       "23   44        \n",
       "24   79        \n",
       "25   75        \n",
       "26  384        \n",
       "27    1        \n",
       "28    1        \n",
       "29  152        \n",
       "30    7        "
      ]
     },
     "metadata": {},
     "output_type": "display_data"
    }
   ],
   "source": [
    "### Distribution of preferential parents\n",
    "distribution_disorders_by_preferential_parent=as.data.frame(table(active_preferential_parent$`Preferential parent`))\n",
    "names(distribution_disorders_by_preferential_parent)=c('Preferential parent','Distribution')\n",
    "distribution_disorders_by_preferential_parent"
   ]
  }
 ],
 "metadata": {
  "kernelspec": {
   "display_name": "R",
   "language": "R",
   "name": "ir"
  },
  "language_info": {
   "codemirror_mode": "r",
   "file_extension": ".r",
   "mimetype": "text/x-r-source",
   "name": "R",
   "pygments_lexer": "r",
   "version": "4.2.1"
  }
 },
 "nbformat": 4,
 "nbformat_minor": 5
}

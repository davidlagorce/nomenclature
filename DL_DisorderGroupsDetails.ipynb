{
 "cells": [
  {
   "cell_type": "code",
   "execution_count": 1,
   "id": "921f1a52-0d7e-41c4-b45c-9e4aaf8b0089",
   "metadata": {},
   "outputs": [],
   "source": [
    "library(jsonlite)\n",
    "library(rlist)\n",
    "library(data.table)\n",
    "suppressPackageStartupMessages(library(\"dplyr\"))\n",
    "library(XML)\n",
    "library(methods)"
   ]
  },
  {
   "cell_type": "code",
   "execution_count": 2,
   "id": "91fd23a9-79b9-4156-a30f-b5182fe2bd35",
   "metadata": {},
   "outputs": [],
   "source": [
    "# We load product1\n",
    "load(file = \"product1.Rdata\")"
   ]
  },
  {
   "cell_type": "code",
   "execution_count": 3,
   "id": "36ceda1e-ad3f-4e83-ba02-69829993ceba",
   "metadata": {},
   "outputs": [
    {
     "data": {
      "text/html": [
       "9339"
      ],
      "text/latex": [
       "9339"
      ],
      "text/markdown": [
       "9339"
      ],
      "text/plain": [
       "[1] 9339"
      ]
     },
     "metadata": {},
     "output_type": "display_data"
    }
   ],
   "source": [
    "# We only select the active clinical entities:\n",
    "# Head of classification (flag=128), Historical entities (flag=512) & On-line (flag=1)\n",
    "indice_list=1\n",
    "all_active_clinical_entities=list()\n",
    "for (i in 1:length(product))\n",
    "  if (product[[i]]$DisorderFlagList$DisorderFlag$Value=='1' |\n",
    "      product[[i]]$DisorderFlagList$DisorderFlag$Value=='128' |\n",
    "      product[[i]]$DisorderFlagList$DisorderFlag$Value=='512')\n",
    "  {\n",
    "    all_active_clinical_entities[[indice_list]]=product[[i]]\n",
    "    indice_list=indice_list+1\n",
    "  }\n",
    "number_all_active_clinical_entities=length(all_active_clinical_entities)\n",
    "number_all_active_clinical_entities"
   ]
  },
  {
   "cell_type": "code",
   "execution_count": 4,
   "id": "337b86ee-4d2b-46b4-99d4-1a761cb746e4",
   "metadata": {},
   "outputs": [
    {
     "data": {
      "text/html": [
       "2176"
      ],
      "text/latex": [
       "2176"
      ],
      "text/markdown": [
       "2176"
      ],
      "text/plain": [
       "[1] 2176"
      ]
     },
     "metadata": {},
     "output_type": "display_data"
    }
   ],
   "source": [
    "### We are now going to work on these active clinical entities\n",
    "### Number of groups of disorders\n",
    "indice_list=1\n",
    "group=list()\n",
    "for (i in 1:length(all_active_clinical_entities))\n",
    "  if (all_active_clinical_entities[[i]]$DisorderGroup$.attrs=='36540')\n",
    "  {\n",
    "    group[[indice_list]]=all_active_clinical_entities[[i]]\n",
    "    indice_list=indice_list+1\n",
    "  }\n",
    "number_groups_of_disorders=length(group)\n",
    "number_groups_of_disorders"
   ]
  },
  {
   "cell_type": "code",
   "execution_count": 5,
   "id": "76be409d-955b-408d-a008-bd22cac549b6",
   "metadata": {},
   "outputs": [
    {
     "data": {
      "text/html": [
       "6165"
      ],
      "text/latex": [
       "6165"
      ],
      "text/markdown": [
       "6165"
      ],
      "text/plain": [
       "[1] 6165"
      ]
     },
     "metadata": {},
     "output_type": "display_data"
    }
   ],
   "source": [
    "### Number of disorders\n",
    "indice_list=1\n",
    "disorders=list()\n",
    "for (i in 1:length(all_active_clinical_entities))\n",
    "  if (all_active_clinical_entities[[i]]$DisorderGroup$.attrs=='36547')\n",
    "  {\n",
    "    disorders[[indice_list]]=all_active_clinical_entities[[i]]\n",
    "    indice_list=indice_list+1\n",
    "  }\n",
    "number_disorders=length(disorders)\n",
    "number_disorders"
   ]
  },
  {
   "cell_type": "code",
   "execution_count": 6,
   "id": "0a4ba1ed-6aed-42c4-88f4-23cb0554ad4f",
   "metadata": {},
   "outputs": [
    {
     "data": {
      "text/html": [
       "998"
      ],
      "text/latex": [
       "998"
      ],
      "text/markdown": [
       "998"
      ],
      "text/plain": [
       "[1] 998"
      ]
     },
     "metadata": {},
     "output_type": "display_data"
    }
   ],
   "source": [
    "### Number of subtypes of disorders\n",
    "indice_list=1\n",
    "subtype=list()\n",
    "for (i in 1:length(all_active_clinical_entities))\n",
    "  if (all_active_clinical_entities[[i]]$DisorderGroup$.attrs=='36554')\n",
    "  {\n",
    "    subtype[[indice_list]]=all_active_clinical_entities[[i]]\n",
    "    indice_list=indice_list+1\n",
    "  }\n",
    "number_subtypes_of_disorders=length(subtype)\n",
    "number_subtypes_of_disorders"
   ]
  }
 ],
 "metadata": {
  "kernelspec": {
   "display_name": "R",
   "language": "R",
   "name": "ir"
  },
  "language_info": {
   "codemirror_mode": "r",
   "file_extension": ".r",
   "mimetype": "text/x-r-source",
   "name": "R",
   "pygments_lexer": "r",
   "version": "4.2.1"
  }
 },
 "nbformat": 4,
 "nbformat_minor": 5
}

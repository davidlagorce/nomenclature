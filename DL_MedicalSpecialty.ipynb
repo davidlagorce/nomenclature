{
 "cells": [
  {
   "cell_type": "code",
   "execution_count": 1,
   "id": "bcfa620e-8aa3-4471-84d6-ee12f6ade7aa",
   "metadata": {},
   "outputs": [],
   "source": [
    "library(jsonlite)\n",
    "library(rlist)\n",
    "library(data.table)\n",
    "suppressPackageStartupMessages(library(\"dplyr\"))\n",
    "library(XML)\n",
    "library(methods)"
   ]
  },
  {
   "cell_type": "code",
   "execution_count": 2,
   "id": "a044ce63-e8b2-4b23-8267-0cc8b6d67680",
   "metadata": {},
   "outputs": [],
   "source": [
    "# We set the working directory\n",
    "setwd('/home/jovyan/xml/')\n"
   ]
  },
  {
   "cell_type": "code",
   "execution_count": null,
   "id": "4f35b9f7-6f51-449d-b9d8-bfe4a3fede27",
   "metadata": {},
   "outputs": [],
   "source": [
    "# We select the xmls with the datas we need\n",
    "suppressWarnings({\n",
    "options(stringsAsFactors = FALSE)\n",
    "xmlproducts3=list.files(pattern='product3')\n",
    "# We put all the xml products3 from orphadata in data frames\n",
    "indice_list=1\n",
    "xmldoc=list()\n",
    "products3=list()\n",
    "node_names=list()\n",
    "names=list()\n",
    "for (i in 1:length(xmlproducts3)) \n",
    "{\n",
    "  xmldoc[[indice_list]]=xmlParse(xmlproducts3[i]) \n",
    "  products3[[indice_list]]=xmlToList(xmldoc[[indice_list]])\n",
    "  indice_list=indice_list+1\n",
    "}\n",
    "})"
   ]
  },
  {
   "cell_type": "code",
   "execution_count": null,
   "id": "2044881b-6e91-4a9e-a426-aecd09de9522",
   "metadata": {},
   "outputs": [],
   "source": [
    "# We get the Classification information\n",
    "prods3=list()\n",
    "for (i in 1:length(products3))\n",
    "{\n",
    "  prods3[[i]]=unlist(products3[[i]]$ClassificationList)\n",
    "}\n",
    "# Each element in the list is a disorder"
   ]
  },
  {
   "cell_type": "code",
   "execution_count": null,
   "id": "f40a9249-59ed-4edb-ba32-f92ca045bbdb",
   "metadata": {},
   "outputs": [],
   "source": [
    "# We get the OrphaCode and the DisorderType for each disorder\n",
    "disordertype = list()\n",
    "orpha = list()\n",
    "indice_orpha = 1\n",
    "indice_disordertype = 1\n",
    "for (i in 1:length(prods3))\n",
    "  for (j in 1:length(prods3[[i]])) \n",
    "    if (grepl(\"Disorder.OrphaCode\", names(prods3[[i]][j]))) {\n",
    "      orpha[[indice_orpha]] = data.frame(classification = prods3[[i]][2],\n",
    "                                      orpha = prods3[[i]][j])\n",
    "      indice_orpha = indice_orpha + 1\n",
    "    } else if (grepl(\"DisorderType..attrs.id\", names(prods3[[i]][j]))) {\n",
    "      disordertype[[indice_disordertype]] = data.frame(classification = prods3[[i]][2],\n",
    "                                              disordertype = prods3[[i]][j])\n",
    "      indice_disordertype = indice_disordertype + 1\n",
    "    } \n",
    "\n",
    "disordertype = rbindlist(disordertype)\n",
    "orpha = rbindlist(orpha)"
   ]
  },
  {
   "cell_type": "code",
   "execution_count": null,
   "id": "0c8abc00-3412-4a0e-abe7-3ca4667ee51f",
   "metadata": {},
   "outputs": [],
   "source": [
    "# We only keep Disorders\n",
    "disorders = cbind.data.frame(orpha, disordertype = disordertype$disordertype)\n",
    "disorders = filter(disorders, disordertype == \"21429\" |\n",
    "              disordertype == \"21401\" |\n",
    "              disordertype == \"21415\" |\n",
    "              disordertype == \"21394\" |\n",
    "              disordertype == \"21422\" |\n",
    "              disordertype == \"21408\")\n",
    "\n",
    "disorders = filter(disorders, !duplicated(disorders))"
   ]
  },
  {
   "cell_type": "code",
   "execution_count": null,
   "id": "2a8a1718-e06e-49e2-b473-37107ef078bb",
   "metadata": {},
   "outputs": [],
   "source": [
    "# We count the number of OrphaCodes in each xml (in each medical speciality)\n",
    "medical_speciality = data.frame(table(disorders$classification))\n",
    "names(medical_speciality)=c('Medical Speciality','Number')\n",
    "medical_speciality"
   ]
  }
 ],
 "metadata": {
  "kernelspec": {
   "display_name": "R",
   "language": "R",
   "name": "ir"
  },
  "language_info": {
   "codemirror_mode": "r",
   "file_extension": ".r",
   "mimetype": "text/x-r-source",
   "name": "R",
   "pygments_lexer": "r",
   "version": "4.2.1"
  }
 },
 "nbformat": 4,
 "nbformat_minor": 5
}

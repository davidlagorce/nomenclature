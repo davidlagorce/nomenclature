{
 "cells": [
  {
   "cell_type": "code",
   "execution_count": 2,
   "id": "5ccfdbd2-0baa-49c0-8e2a-cc6e0ab7ec9a",
   "metadata": {},
   "outputs": [],
   "source": [
    "library(jsonlite)\n",
    "library(rlist)\n",
    "library(data.table)\n",
    "suppressPackageStartupMessages(library(\"dplyr\"))\n",
    "library(XML)\n",
    "library(methods)"
   ]
  },
  {
   "cell_type": "code",
   "execution_count": 3,
   "id": "4998c6bc-9d10-4e47-a160-1b7f3b9058eb",
   "metadata": {},
   "outputs": [],
   "source": [
    "# We select the xmls with the datas we need\n",
    "setwd('/home/jovyan/xml/')\n"
   ]
  },
  {
   "cell_type": "code",
   "execution_count": 4,
   "id": "d69a7f8a-54bf-44db-af8a-c592a109ff52",
   "metadata": {},
   "outputs": [],
   "source": [
    "suppressWarnings({\n",
    "    options(stringsAsFactors = FALSE)\n",
    "# Open different xml in the same time\n",
    "# We select the xmls with the datas we need\n",
    "xmlfiles=list.files(pattern='product3')\n",
    "# We remove the datas about genetic disorders, they have no interest here\n",
    "xmlfiles=xmlfiles[!xmlfiles=='en_product3_156.xml']\n",
    "# We put the 35 xml files from  orphadata in data frames\n",
    "indice_list=1\n",
    "xmldoc=list()\n",
    "files=list()\n",
    "for (i in 1:length(xmlfiles)) \n",
    "{\n",
    "  xmldoc[[indice_list]]=xmlParse(xmlfiles[i]) # we parse the files\n",
    "  files[[indice_list]]=xmlToDataFrame(nodes = getNodeSet(xmldoc[[i]], \"//Disorder\")) # we put files into a list\n",
    "  indice_list=indice_list+1\n",
    "}\n",
    "    })"
   ]
  },
  {
   "cell_type": "code",
   "execution_count": 5,
   "id": "596c1b69-f8c4-48b6-a2da-b24a29b4fa07",
   "metadata": {},
   "outputs": [],
   "source": [
    "# We remove the disorders that are duplicated in the same xml\n",
    "indice_list=1\n",
    "file=list()\n",
    "for (i in 1:length(files))\n",
    "    if (length(files[[i]]) > 0)\n",
    "{\n",
    "  file[[indice_list]]=files[[i]][!duplicated(files[[i]]), ]\n",
    "  indice_list=indice_list+1\n",
    "}\n",
    "\n",
    "# We get an unique frame with the datas\n",
    "file=rbindlist(file, use.names = TRUE)"
   ]
  },
  {
   "cell_type": "code",
   "execution_count": 6,
   "id": "3a01e3bc-1b54-4601-bc93-7bca2db697a7",
   "metadata": {},
   "outputs": [],
   "source": [
    "# We only keep the disorders \n",
    "file=filter(file, DisorderType=='Malformation syndrome' | DisorderType=='Disease' |\n",
    "DisorderType=='Morphological anomaly'| DisorderType=='Clinical syndrome' |\n",
    "DisorderType=='Particular clinical situation in a disease or syndrome' | DisorderType=='Biological anomaly')"
   ]
  },
  {
   "cell_type": "code",
   "execution_count": 7,
   "id": "735a7ac8-b1d0-40d8-93fa-9840552b8dfc",
   "metadata": {},
   "outputs": [],
   "source": [
    "# We count how much times an OrphaCode is duplicated\n",
    "table_count=as.data.frame(table(file$OrphaCode))\n",
    "names(table_count)=c('OrphaCode','Number of classifications')"
   ]
  },
  {
   "cell_type": "code",
   "execution_count": 8,
   "id": "9a55478d-782d-4e05-9856-cdcb9f455a13",
   "metadata": {},
   "outputs": [],
   "source": [
    "# We look for ORPHAcodes which are duplicated at least once\n",
    "indice_list=1\n",
    "duplicates=list()\n",
    "for (i in 1:nrow(table_count))\n",
    "  if (table_count$`Number of classifications`[i] > 1)\n",
    "  {\n",
    "    duplicates[[indice_list]]=table_count[i, ]\n",
    "    indice_list=indice_list+1\n",
    "  }\n",
    "duplicates=rbindlist(duplicates,use.names = TRUE)"
   ]
  },
  {
   "cell_type": "code",
   "execution_count": 9,
   "id": "664473a7-2006-41e1-b51a-231538fd3ce6",
   "metadata": {},
   "outputs": [
    {
     "data": {
      "text/html": [
       "4186"
      ],
      "text/latex": [
       "4186"
      ],
      "text/markdown": [
       "4186"
      ],
      "text/plain": [
       "[1] 4186"
      ]
     },
     "metadata": {},
     "output_type": "display_data"
    }
   ],
   "source": [
    "# Number of disorders multiclassified\n",
    "number_of_disorders_multiclassified=nrow(duplicates)\n",
    "number_of_disorders_multiclassified"
   ]
  },
  {
   "cell_type": "code",
   "execution_count": 10,
   "id": "000d192a-c706-4431-a63d-4f032fe701dc",
   "metadata": {},
   "outputs": [
    {
     "data": {
      "text/html": [
       "67.3206818912834"
      ],
      "text/latex": [
       "67.3206818912834"
      ],
      "text/markdown": [
       "67.3206818912834"
      ],
      "text/plain": [
       "[1] 67.32068"
      ]
     },
     "metadata": {},
     "output_type": "display_data"
    }
   ],
   "source": [
    "# Percentage of disorders multiclassified\n",
    "percentage_of_number_of_disorders_multiclassified=number_of_disorders_multiclassified/nrow(table_count)*100\n",
    "percentage_of_number_of_disorders_multiclassified"
   ]
  },
  {
   "cell_type": "code",
   "execution_count": 11,
   "id": "ef49694c-dd44-4557-ba3a-fb53c031ee76",
   "metadata": {},
   "outputs": [
    {
     "data": {
      "text/html": [
       "2032"
      ],
      "text/latex": [
       "2032"
      ],
      "text/markdown": [
       "2032"
      ],
      "text/plain": [
       "[1] 2032"
      ]
     },
     "metadata": {},
     "output_type": "display_data"
    }
   ],
   "source": [
    "# Number of disorders uniclassified\n",
    "number_of_disorders_uniclassified=nrow(table_count) - number_of_disorders_multiclassified\n",
    "number_of_disorders_uniclassified"
   ]
  },
  {
   "cell_type": "code",
   "execution_count": 12,
   "id": "4f5a8096-12af-4d31-8067-60457d15f97e",
   "metadata": {},
   "outputs": [
    {
     "data": {
      "text/html": [
       "32.6793181087166"
      ],
      "text/latex": [
       "32.6793181087166"
      ],
      "text/markdown": [
       "32.6793181087166"
      ],
      "text/plain": [
       "[1] 32.67932"
      ]
     },
     "metadata": {},
     "output_type": "display_data"
    }
   ],
   "source": [
    "# Percentage of disorders uniclassified\n",
    "percentage_of_number_of_disorders_uniclassified=number_of_disorders_uniclassified/nrow(table_count)*100\n",
    "percentage_of_number_of_disorders_uniclassified"
   ]
  },
  {
   "cell_type": "code",
   "execution_count": 13,
   "id": "b37bd596-6f4c-424b-940b-5af8190f751a",
   "metadata": {},
   "outputs": [
    {
     "data": {
      "text/plain": [
       "   Min. 1st Qu.  Median    Mean 3rd Qu.    Max. \n",
       "  1.000   1.000   2.000   2.303   3.000  13.000 "
      ]
     },
     "metadata": {},
     "output_type": "display_data"
    }
   ],
   "source": [
    "### Stats : min/max, mean, median of the number of classifications for the disorders\n",
    "summary(table_count$`Number of classifications`)"
   ]
  },
  {
   "cell_type": "code",
   "execution_count": null,
   "id": "3304da03-9d89-42b5-9d45-af71f3c8ca01",
   "metadata": {},
   "outputs": [],
   "source": []
  }
 ],
 "metadata": {
  "kernelspec": {
   "display_name": "R",
   "language": "R",
   "name": "ir"
  },
  "language_info": {
   "codemirror_mode": "r",
   "file_extension": ".r",
   "mimetype": "text/x-r-source",
   "name": "R",
   "pygments_lexer": "r",
   "version": "4.2.1"
  }
 },
 "nbformat": 4,
 "nbformat_minor": 5
}

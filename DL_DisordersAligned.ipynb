{
 "cells": [
  {
   "cell_type": "code",
   "execution_count": 1,
   "id": "0792d53e-1837-442a-a8da-9c548739523d",
   "metadata": {},
   "outputs": [],
   "source": [
    "#######################################################\n",
    "###                                                 ###\n",
    "###   /!\\  RUN DL_LoadProduct1.ipynb BEFORE   /!\\   ###\n",
    "###                                                 ###\n",
    "#######################################################"
   ]
  },
  {
   "cell_type": "code",
   "execution_count": 1,
   "id": "7c891fb9-611e-44c9-a94c-18a657d143fe",
   "metadata": {},
   "outputs": [],
   "source": [
    "library(jsonlite)\n",
    "library(rlist)\n",
    "library(data.table)\n",
    "suppressPackageStartupMessages(library(\"dplyr\"))\n",
    "library(XML)\n",
    "library(methods)"
   ]
  },
  {
   "cell_type": "code",
   "execution_count": 2,
   "id": "57ec88a8-7172-4b68-a539-2949942f7b74",
   "metadata": {},
   "outputs": [],
   "source": [
    "# We load product1\n",
    "load(file = \"all_active_clinical_entities.Rdata\")"
   ]
  },
  {
   "cell_type": "code",
   "execution_count": 3,
   "id": "5cf6bdc4-1061-432c-9100-31ce5dd32142",
   "metadata": {},
   "outputs": [
    {
     "data": {
      "text/html": [
       "9369"
      ],
      "text/latex": [
       "9369"
      ],
      "text/markdown": [
       "9369"
      ],
      "text/plain": [
       "[1] 9369"
      ]
     },
     "metadata": {},
     "output_type": "display_data"
    }
   ],
   "source": [
    "number_all_active_clinical_entities=length(all_active_clinical_entities)\n",
    "number_all_active_clinical_entities"
   ]
  },
  {
   "cell_type": "code",
   "execution_count": 4,
   "id": "bfe9797a-a58f-4ec1-9248-787ecc7cbd07",
   "metadata": {},
   "outputs": [],
   "source": [
    "# We only select the disorders between the active clinical entities\n",
    "indice_list=1\n",
    "disorders=list()\n",
    "for (i in 1:length(all_active_clinical_entities))\n",
    "  if (all_active_clinical_entities[[i]]$DisorderGroup$.attrs=='36547')\n",
    "  {\n",
    "    disorders[[indice_list]]=all_active_clinical_entities[[i]]\n",
    "    indice_list=indice_list+1\n",
    "  }\n",
    "number_disorders=length(disorders)"
   ]
  },
  {
   "cell_type": "code",
   "execution_count": 5,
   "id": "4ec3a1ff-d8a4-48fe-a65b-5df3f54338a5",
   "metadata": {
    "tags": []
   },
   "outputs": [],
   "source": [
    "# We get all the disorders that are aligned\n",
    "indice_list=1\n",
    "aligned_disorders=list()\n",
    "for (i in 1:length(disorders))\n",
    "  if (!is.null(disorders[[i]]$ExternalReferenceList$ExternalReference$.attrs))\n",
    "  {\n",
    "    aligned_disorders[[indice_list]]=disorders[[i]]\n",
    "    indice_list=indice_list+1\n",
    "  }"
   ]
  },
  {
   "cell_type": "code",
   "execution_count": 6,
   "id": "c3ccfb55-c3ce-4700-918c-d2c07aabe31c",
   "metadata": {},
   "outputs": [],
   "source": [
    "### We want the disorders aligned with at least one OMIM or ICD-10 or ICD-11\n",
    "indice_list=1\n",
    "aligned_disorders_with_OMIM_or_ICD10_or_ICD11=list()\n",
    "for (i in 1:length(aligned_disorders))\n",
    "  for (j in 1:(length(aligned_disorders[[i]]$ExternalReferenceList)-1))\n",
    "    if (aligned_disorders[[i]]$ExternalReferenceList[[j]]$Source=='ICD-10' |\n",
    "        aligned_disorders[[i]]$ExternalReferenceList[[j]]$Source=='ICD-11' |\n",
    "        aligned_disorders[[i]]$ExternalReferenceList[[j]]$Source=='OMIM')\n",
    "    {\n",
    "      aligned_disorders_with_OMIM_or_ICD10_or_ICD11[[indice_list]]=data.frame(aligned_disorders[[i]]$OrphaCode)\n",
    "      indice_list=indice_list+1\n",
    "    }\n",
    "aligned_disorders_with_OMIM_or_ICD10_or_ICD11=rbindlist(aligned_disorders_with_OMIM_or_ICD10_or_ICD11)\n",
    "\n",
    "# We remove duplicates\n",
    "aligned_disorders_with_OMIM_or_ICD10_or_ICD11=aligned_disorders_with_OMIM_or_ICD10_or_ICD11[!duplicated(aligned_disorders_with_OMIM_or_ICD10_or_ICD11)]"
   ]
  },
  {
   "cell_type": "code",
   "execution_count": 7,
   "id": "9bf08176-b970-4900-bc83-e224e99f42be",
   "metadata": {},
   "outputs": [
    {
     "data": {
      "text/html": [
       "5935"
      ],
      "text/latex": [
       "5935"
      ],
      "text/markdown": [
       "5935"
      ],
      "text/plain": [
       "[1] 5935"
      ]
     },
     "metadata": {},
     "output_type": "display_data"
    },
    {
     "data": {
      "text/html": [
       "95.3107435362133"
      ],
      "text/latex": [
       "95.3107435362133"
      ],
      "text/markdown": [
       "95.3107435362133"
      ],
      "text/plain": [
       "[1] 95.31074"
      ]
     },
     "metadata": {},
     "output_type": "display_data"
    }
   ],
   "source": [
    "# Number of disorders with at least one OMIM or ICD-10 or ICD-11 aligned\n",
    "number_aligned_disorders_with_OMIM_or_ICD10_or_ICD11=nrow(aligned_disorders_with_OMIM_or_ICD10_or_ICD11)\n",
    "number_aligned_disorders_with_OMIM_or_ICD10_or_ICD11\n",
    "# Percentage of disorders with at least one OMIM or ICD-10 aligned\n",
    "percentage_aligned_disorders_with_OMIM_or_ICD10_or_ICD11=number_aligned_disorders_with_OMIM_or_ICD10_or_ICD11/number_disorders*100\n",
    "percentage_aligned_disorders_with_OMIM_or_ICD10_or_ICD11"
   ]
  },
  {
   "cell_type": "code",
   "execution_count": 8,
   "id": "36bc2312-7969-4325-8690-42f1662e1284",
   "metadata": {},
   "outputs": [],
   "source": [
    "### We want the disorders aligned with at least one OMIM \n",
    "indice_list=1\n",
    "aligned_disorders_with_OMIM=list()\n",
    "for (i in 1:length(aligned_disorders))\n",
    "  for (j in 1:(length(aligned_disorders[[i]]$ExternalReferenceList)-1))\n",
    "    if (aligned_disorders[[i]]$ExternalReferenceList[[j]]$Source=='OMIM')\n",
    "    {\n",
    "      aligned_disorders_with_OMIM[[indice_list]]=data.frame(aligned_disorders[[i]]$OrphaCode)\n",
    "      indice_list=indice_list+1\n",
    "    }\n",
    "aligned_disorders_with_OMIM=rbindlist(aligned_disorders_with_OMIM)\n",
    "\n",
    "# We remove duplicates\n",
    "aligned_disorders_with_OMIM=aligned_disorders_with_OMIM[!duplicated(aligned_disorders_with_OMIM)]"
   ]
  },
  {
   "cell_type": "code",
   "execution_count": 9,
   "id": "d6133e3c-1d4d-4788-9315-ec3fa3c517b4",
   "metadata": {},
   "outputs": [
    {
     "data": {
      "text/html": [
       "3899"
      ],
      "text/latex": [
       "3899"
      ],
      "text/markdown": [
       "3899"
      ],
      "text/plain": [
       "[1] 3899"
      ]
     },
     "metadata": {},
     "output_type": "display_data"
    },
    {
     "data": {
      "text/html": [
       "62.61"
      ],
      "text/latex": [
       "62.61"
      ],
      "text/markdown": [
       "62.61"
      ],
      "text/plain": [
       "[1] 62.61"
      ]
     },
     "metadata": {},
     "output_type": "display_data"
    }
   ],
   "source": [
    "# Number of disorders with at least one OMIM\n",
    "number_aligned_disorders_with_OMIM=nrow(aligned_disorders_with_OMIM)\n",
    "number_aligned_disorders_with_OMIM\n",
    "# Percentage of disorders with at least one OMIM\n",
    "percentage_aligned_disorders_with_OMIM=number_aligned_disorders_with_OMIM/number_disorders*100\n",
    "round(percentage_aligned_disorders_with_OMIM, digits = 2)"
   ]
  },
  {
   "cell_type": "code",
   "execution_count": null,
   "id": "5e5568b9-a292-443f-9a14-e1394cbb8cc0",
   "metadata": {},
   "outputs": [],
   "source": []
  },
  {
   "cell_type": "code",
   "execution_count": 10,
   "id": "dfb22ed9-a3bd-4ba3-96bc-3b5aca890930",
   "metadata": {},
   "outputs": [],
   "source": [
    "### We want the disorders aligned with at least one OMIM by an Exact relationship\n",
    "indice_list=1\n",
    "OMIM_aligned_by_exact_relationship=list()\n",
    "for (i in 1:length(aligned_disorders))\n",
    "  for (j in 1:(length(aligned_disorders[[i]]$ExternalReferenceList)-1))\n",
    "    if (aligned_disorders[[i]]$ExternalReferenceList[[j]]$Source=='OMIM' &\n",
    "        aligned_disorders[[i]]$ExternalReferenceList[[j]]$DisorderMappingRelation$Name$text=='E (Exact mapping: the two concepts are equivalent)')\n",
    "    {\n",
    "      OMIM_aligned_by_exact_relationship[[indice_list]]=data.frame(aligned_disorders[[i]]$OrphaCode)\n",
    "      indice_list=indice_list+1\n",
    "    }\n",
    "OMIM_aligned_by_exact_relationship=rbindlist(OMIM_aligned_by_exact_relationship)\n",
    "\n",
    "# We delete duplicates\n",
    "OMIM_aligned_by_exact_relationship=OMIM_aligned_by_exact_relationship[!duplicated(OMIM_aligned_by_exact_relationship)]"
   ]
  },
  {
   "cell_type": "code",
   "execution_count": 11,
   "id": "03955a06-c65d-4173-85b2-41b1f37ddd29",
   "metadata": {},
   "outputs": [
    {
     "data": {
      "text/html": [
       "3195"
      ],
      "text/latex": [
       "3195"
      ],
      "text/markdown": [
       "3195"
      ],
      "text/plain": [
       "[1] 3195"
      ]
     },
     "metadata": {},
     "output_type": "display_data"
    },
    {
     "data": {
      "text/html": [
       "51.31"
      ],
      "text/latex": [
       "51.31"
      ],
      "text/markdown": [
       "51.31"
      ],
      "text/plain": [
       "[1] 51.31"
      ]
     },
     "metadata": {},
     "output_type": "display_data"
    }
   ],
   "source": [
    "# Number of disorders aligned with at least one OMIM by an Exact relationship\n",
    "number_OMIM_aligned_by_exact_relationship=nrow(OMIM_aligned_by_exact_relationship)\n",
    "number_OMIM_aligned_by_exact_relationship\n",
    "# Percentage of disorders aligned with at least one OMIM by an Exact relationship\n",
    "percentage_OMIM_aligned_by_exact_relationship=number_OMIM_aligned_by_exact_relationship/number_disorders*100\n",
    "round(percentage_OMIM_aligned_by_exact_relationship, digits = 2)"
   ]
  },
  {
   "cell_type": "code",
   "execution_count": 12,
   "id": "72f99daf-e0cb-4d59-ae42-9d228e1a85f5",
   "metadata": {},
   "outputs": [],
   "source": [
    "### We want the disorders aligned with at least one ICD-10, with at least one ICD-11 and both\n",
    "indice_list=1\n",
    "aligned_disorders_with_ICD10=list()\n",
    "for (i in 1:length(aligned_disorders))\n",
    "  for (j in 1:(length(aligned_disorders[[i]]$ExternalReferenceList)-1))\n",
    "    if (aligned_disorders[[i]]$ExternalReferenceList[[j]]$Source=='ICD-10')\n",
    "    {\n",
    "      aligned_disorders_with_ICD10[[indice_list]]=data.frame(aligned_disorders[[i]]$OrphaCode)\n",
    "      indice_list=indice_list+1\n",
    "    }\n",
    "aligned_disorders_with_ICD10=rbindlist(aligned_disorders_with_ICD10)\n",
    "\n",
    "# We remove duplicates\n",
    "aligned_disorders_with_ICD10=aligned_disorders_with_ICD10[!duplicated(aligned_disorders_with_ICD10)]"
   ]
  },
  {
   "cell_type": "code",
   "execution_count": 13,
   "id": "01c9ce5a-1b79-480e-8373-c89cabdc61f9",
   "metadata": {},
   "outputs": [
    {
     "data": {
      "text/html": [
       "5666"
      ],
      "text/latex": [
       "5666"
      ],
      "text/markdown": [
       "5666"
      ],
      "text/plain": [
       "[1] 5666"
      ]
     },
     "metadata": {},
     "output_type": "display_data"
    },
    {
     "data": {
      "text/html": [
       "90.99"
      ],
      "text/latex": [
       "90.99"
      ],
      "text/markdown": [
       "90.99"
      ],
      "text/plain": [
       "[1] 90.99"
      ]
     },
     "metadata": {},
     "output_type": "display_data"
    }
   ],
   "source": [
    "# Number of disorders aligned with at least one ICD-10\n",
    "number_aligned_disorders_with_ICD10=nrow(aligned_disorders_with_ICD10)\n",
    "number_aligned_disorders_with_ICD10\n",
    "# Percentage of disorders aligned with at least one ICD-10\n",
    "percentage_aligned_disorders_with_ICD10=number_aligned_disorders_with_ICD10/number_disorders*100\n",
    "round(percentage_aligned_disorders_with_ICD10, digits = 2)"
   ]
  },
  {
   "cell_type": "code",
   "execution_count": 14,
   "id": "067afc4c-799d-485c-ad4b-80dfa3b34b1e",
   "metadata": {},
   "outputs": [],
   "source": [
    "### We want the disorders aligned with at least one ICD-10 by an Exact relationship\n",
    "indice_list=1\n",
    "ICD10_aligned_by_exact_relationship=list()\n",
    "for (i in 1:length(aligned_disorders))\n",
    "  for (j in 1:(length(aligned_disorders[[i]]$ExternalReferenceList)-1))\n",
    "    if (aligned_disorders[[i]]$ExternalReferenceList[[j]]$Source=='ICD-10' &\n",
    "        aligned_disorders[[i]]$ExternalReferenceList[[j]]$DisorderMappingRelation$Name$text=='E (Exact mapping: the two concepts are equivalent)')\n",
    "    {\n",
    "      ICD10_aligned_by_exact_relationship[[indice_list]]=data.frame(aligned_disorders[[i]]$OrphaCode)\n",
    "      indice_list=indice_list+1\n",
    "    }\n",
    "ICD10_aligned_by_exact_relationship=rbindlist(ICD10_aligned_by_exact_relationship)\n",
    "\n",
    "# We delete duplicates\n",
    "ICD10_aligned_by_exact_relationship=ICD10_aligned_by_exact_relationship[!duplicated(ICD10_aligned_by_exact_relationship)]"
   ]
  },
  {
   "cell_type": "code",
   "execution_count": 15,
   "id": "7d3dc525-a470-4a49-964d-a64b3061714e",
   "metadata": {},
   "outputs": [
    {
     "data": {
      "text/html": [
       "423"
      ],
      "text/latex": [
       "423"
      ],
      "text/markdown": [
       "423"
      ],
      "text/plain": [
       "[1] 423"
      ]
     },
     "metadata": {},
     "output_type": "display_data"
    },
    {
     "data": {
      "text/html": [
       "6.79"
      ],
      "text/latex": [
       "6.79"
      ],
      "text/markdown": [
       "6.79"
      ],
      "text/plain": [
       "[1] 6.79"
      ]
     },
     "metadata": {},
     "output_type": "display_data"
    }
   ],
   "source": [
    "# Number of disorders aligned with at least one ICD-10 by an Exact relationship\n",
    "number_ICD10_aligned_by_exact_relationship=nrow(ICD10_aligned_by_exact_relationship)\n",
    "number_ICD10_aligned_by_exact_relationship\n",
    "# Percentage of disorders aligned with at least one ICD-10 by an Exact relationship\n",
    "percentage_ICD10_aligned_by_exact_relationship=number_ICD10_aligned_by_exact_relationship/number_disorders*100\n",
    "round(percentage_ICD10_aligned_by_exact_relationship, digits = 2)"
   ]
  },
  {
   "cell_type": "code",
   "execution_count": null,
   "id": "d747ee71-3afc-47ea-b836-5072fac7c3fc",
   "metadata": {},
   "outputs": [],
   "source": []
  }
 ],
 "metadata": {
  "kernelspec": {
   "display_name": "R",
   "language": "R",
   "name": "ir"
  },
  "language_info": {
   "codemirror_mode": "r",
   "file_extension": ".r",
   "mimetype": "text/x-r-source",
   "name": "R",
   "pygments_lexer": "r",
   "version": "4.2.1"
  }
 },
 "nbformat": 4,
 "nbformat_minor": 5
}

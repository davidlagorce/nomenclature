{
 "cells": [
  {
   "cell_type": "code",
   "execution_count": 13,
   "id": "e2558c92-8612-4fd6-a9a9-4011b917f431",
   "metadata": {},
   "outputs": [],
   "source": [
    "library(jsonlite)\n",
    "library(rlist)\n",
    "library(data.table)\n",
    "suppressPackageStartupMessages(library(\"dplyr\"))\n",
    "library(XML)\n",
    "library(methods)"
   ]
  },
  {
   "cell_type": "code",
   "execution_count": 14,
   "id": "57ec88a8-7172-4b68-a539-2949942f7b74",
   "metadata": {},
   "outputs": [],
   "source": [
    "# We load product1\n",
    "load(file = \"actives_entities.Rdata\")"
   ]
  },
  {
   "cell_type": "code",
   "execution_count": 15,
   "id": "5cf6bdc4-1061-432c-9100-31ce5dd32142",
   "metadata": {},
   "outputs": [
    {
     "data": {
      "text/html": [
       "9339"
      ],
      "text/latex": [
       "9339"
      ],
      "text/markdown": [
       "9339"
      ],
      "text/plain": [
       "[1] 9339"
      ]
     },
     "metadata": {},
     "output_type": "display_data"
    }
   ],
   "source": [
    "number_all_active_clinical_entities=length(all_active_clinical_entities)\n",
    "number_all_active_clinical_entities"
   ]
  },
  {
   "cell_type": "code",
   "execution_count": 16,
   "id": "bfe9797a-a58f-4ec1-9248-787ecc7cbd07",
   "metadata": {},
   "outputs": [],
   "source": [
    "# We only select the disorders between the active clinical entities\n",
    "indice_list=1\n",
    "disorders=list()\n",
    "for (i in 1:length(all_active_clinical_entities))\n",
    "  if (all_active_clinical_entities[[i]]$DisorderGroup$.attrs=='36547')\n",
    "  {\n",
    "    disorders[[indice_list]]=all_active_clinical_entities[[i]]\n",
    "    indice_list=indice_list+1\n",
    "  }\n",
    "number_disorders=length(disorders)"
   ]
  },
  {
   "cell_type": "code",
   "execution_count": 17,
   "id": "4ec3a1ff-d8a4-48fe-a65b-5df3f54338a5",
   "metadata": {
    "tags": []
   },
   "outputs": [],
   "source": [
    "# We get all the disorders that are aligned\n",
    "indice_list=1\n",
    "aligned_disorders=list()\n",
    "for (i in 1:length(disorders))\n",
    "  if (!is.null(disorders[[i]]$ExternalReferenceList$ExternalReference$.attrs))\n",
    "  {\n",
    "    aligned_disorders[[indice_list]]=disorders[[i]]\n",
    "    indice_list=indice_list+1\n",
    "  }"
   ]
  },
  {
   "cell_type": "code",
   "execution_count": 68,
   "id": "c3ccfb55-c3ce-4700-918c-d2c07aabe31c",
   "metadata": {},
   "outputs": [],
   "source": [
    "### We want the disorders aligned with at least one OMIM or ICD-10 or ICD-11\n",
    "indice_list=1\n",
    "aligned_disorders_with_OMIM_or_ICD10_or_ICD11=list()\n",
    "for (i in 1:length(aligned_disorders))\n",
    "  for (j in 1:(length(aligned_disorders[[i]]$ExternalReferenceList)-1))\n",
    "    if (aligned_disorders[[i]]$ExternalReferenceList[[j]]$Source=='ICD-10' |\n",
    "        aligned_disorders[[i]]$ExternalReferenceList[[j]]$Source=='ICD-11' |\n",
    "        aligned_disorders[[i]]$ExternalReferenceList[[j]]$Source=='OMIM')\n",
    "    {\n",
    "      aligned_disorders_with_OMIM_or_ICD10_or_ICD11[[indice_list]]=data.frame(aligned_disorders[[i]]$OrphaCode)\n",
    "      indice_list=indice_list+1\n",
    "    }\n",
    "aligned_disorders_with_OMIM_or_ICD10_or_ICD11=rbindlist(aligned_disorders_with_OMIM_or_ICD10_or_ICD11)\n",
    "\n",
    "# We remove duplicates\n",
    "aligned_disorders_with_OMIM_or_ICD10_or_ICD11=aligned_disorders_with_OMIM_or_ICD10_or_ICD11[!duplicated(aligned_disorders_with_OMIM_or_ICD10_or_ICD11)]"
   ]
  },
  {
   "cell_type": "code",
   "execution_count": 69,
   "id": "9bf08176-b970-4900-bc83-e224e99f42be",
   "metadata": {},
   "outputs": [
    {
     "data": {
      "text/html": [
       "5718"
      ],
      "text/latex": [
       "5718"
      ],
      "text/markdown": [
       "5718"
      ],
      "text/plain": [
       "[1] 5718"
      ]
     },
     "metadata": {},
     "output_type": "display_data"
    },
    {
     "data": {
      "text/html": [
       "92.7493917274939"
      ],
      "text/latex": [
       "92.7493917274939"
      ],
      "text/markdown": [
       "92.7493917274939"
      ],
      "text/plain": [
       "[1] 92.74939"
      ]
     },
     "metadata": {},
     "output_type": "display_data"
    }
   ],
   "source": [
    "# Number of disorders with at least one OMIM or ICD-10 or ICD-11 aligned\n",
    "number_aligned_disorders_with_OMIM_or_ICD10_or_ICD11=nrow(aligned_disorders_with_OMIM_or_ICD10_or_ICD11)\n",
    "number_aligned_disorders_with_OMIM_or_ICD10_or_ICD11\n",
    "# Percentage of disorders with at least one OMIM or ICD-10 aligned\n",
    "percentage_aligned_disorders_with_OMIM_or_ICD10_or_ICD11=number_aligned_disorders_with_OMIM_or_ICD10_or_ICD11/number_disorders*100\n",
    "percentage_aligned_disorders_with_OMIM_or_ICD10_or_ICD11"
   ]
  },
  {
   "cell_type": "code",
   "execution_count": 22,
   "id": "36bc2312-7969-4325-8690-42f1662e1284",
   "metadata": {},
   "outputs": [],
   "source": [
    "### We want the disorders aligned with at least one OMIM \n",
    "indice_list=1\n",
    "aligned_disorders_with_OMIM=list()\n",
    "for (i in 1:length(aligned_disorders))\n",
    "  for (j in 1:(length(aligned_disorders[[i]]$ExternalReferenceList)-1))\n",
    "    if (aligned_disorders[[i]]$ExternalReferenceList[[j]]$Source=='OMIM')\n",
    "    {\n",
    "      aligned_disorders_with_OMIM[[indice_list]]=data.frame(aligned_disorders[[i]]$OrphaCode)\n",
    "      indice_list=indice_list+1\n",
    "    }\n",
    "aligned_disorders_with_OMIM=rbindlist(aligned_disorders_with_OMIM)\n",
    "\n",
    "# We remove duplicates\n",
    "aligned_disorders_with_OMIM=aligned_disorders_with_OMIM[!duplicated(aligned_disorders_with_OMIM)]"
   ]
  },
  {
   "cell_type": "code",
   "execution_count": 49,
   "id": "d6133e3c-1d4d-4788-9315-ec3fa3c517b4",
   "metadata": {},
   "outputs": [
    {
     "data": {
      "text/html": [
       "3892"
      ],
      "text/latex": [
       "3892"
      ],
      "text/markdown": [
       "3892"
      ],
      "text/plain": [
       "[1] 3892"
      ]
     },
     "metadata": {},
     "output_type": "display_data"
    },
    {
     "data": {
      "text/html": [
       "63.13"
      ],
      "text/latex": [
       "63.13"
      ],
      "text/markdown": [
       "63.13"
      ],
      "text/plain": [
       "[1] 63.13"
      ]
     },
     "metadata": {},
     "output_type": "display_data"
    }
   ],
   "source": [
    "# Number of disorders with at least one OMIM\n",
    "number_aligned_disorders_with_OMIM=nrow(aligned_disorders_with_OMIM)\n",
    "number_aligned_disorders_with_OMIM\n",
    "# Percentage of disorders with at least one OMIM\n",
    "percentage_aligned_disorders_with_OMIM=number_aligned_disorders_with_OMIM/number_disorders*100\n",
    "round(percentage_aligned_disorders_with_OMIM, digits = 2)"
   ]
  },
  {
   "cell_type": "code",
   "execution_count": null,
   "id": "5e5568b9-a292-443f-9a14-e1394cbb8cc0",
   "metadata": {},
   "outputs": [
    {
     "data": {
      "text/html": [
       "63.1305758313058"
      ],
      "text/latex": [
       "63.1305758313058"
      ],
      "text/markdown": [
       "63.1305758313058"
      ],
      "text/plain": [
       "[1] 63.13058"
      ]
     },
     "metadata": {},
     "output_type": "display_data"
    }
   ],
   "source": []
  },
  {
   "cell_type": "code",
   "execution_count": 40,
   "id": "dfb22ed9-a3bd-4ba3-96bc-3b5aca890930",
   "metadata": {},
   "outputs": [],
   "source": [
    "### We want the disorders aligned with at least one OMIM by an Exact relationship\n",
    "indice_list=1\n",
    "OMIM_aligned_by_exact_relationship=list()\n",
    "for (i in 1:length(aligned_disorders))\n",
    "  for (j in 1:(length(aligned_disorders[[i]]$ExternalReferenceList)-1))\n",
    "    if (aligned_disorders[[i]]$ExternalReferenceList[[j]]$Source=='OMIM' &\n",
    "        aligned_disorders[[i]]$ExternalReferenceList[[j]]$DisorderMappingRelation$Name$text=='E (Exact mapping: the two concepts are equivalent)')\n",
    "    {\n",
    "      OMIM_aligned_by_exact_relationship[[indice_list]]=data.frame(aligned_disorders[[i]]$OrphaCode)\n",
    "      indice_list=indice_list+1\n",
    "    }\n",
    "OMIM_aligned_by_exact_relationship=rbindlist(OMIM_aligned_by_exact_relationship)\n",
    "\n",
    "# We delete duplicates\n",
    "OMIM_aligned_by_exact_relationship=OMIM_aligned_by_exact_relationship[!duplicated(OMIM_aligned_by_exact_relationship)]"
   ]
  },
  {
   "cell_type": "code",
   "execution_count": 46,
   "id": "03955a06-c65d-4173-85b2-41b1f37ddd29",
   "metadata": {},
   "outputs": [
    {
     "data": {
      "text/html": [
       "3204"
      ],
      "text/latex": [
       "3204"
      ],
      "text/markdown": [
       "3204"
      ],
      "text/plain": [
       "[1] 3204"
      ]
     },
     "metadata": {},
     "output_type": "display_data"
    },
    {
     "data": {
      "text/html": [
       "51.97"
      ],
      "text/latex": [
       "51.97"
      ],
      "text/markdown": [
       "51.97"
      ],
      "text/plain": [
       "[1] 51.97"
      ]
     },
     "metadata": {},
     "output_type": "display_data"
    }
   ],
   "source": [
    "# Number of disorders aligned with at least one OMIM by an Exact relationship\n",
    "number_OMIM_aligned_by_exact_relationship=nrow(OMIM_aligned_by_exact_relationship)\n",
    "number_OMIM_aligned_by_exact_relationship\n",
    "# Percentage of disorders aligned with at least one OMIM by an Exact relationship\n",
    "percentage_OMIM_aligned_by_exact_relationship=number_OMIM_aligned_by_exact_relationship/number_disorders*100\n",
    "round(percentage_OMIM_aligned_by_exact_relationship, digits = 2)"
   ]
  },
  {
   "cell_type": "code",
   "execution_count": 42,
   "id": "72f99daf-e0cb-4d59-ae42-9d228e1a85f5",
   "metadata": {},
   "outputs": [],
   "source": [
    "### We want the disorders aligned with at least one ICD-10, with at least one ICD-11 and both\n",
    "indice_list=1\n",
    "aligned_disorders_with_ICD10=list()\n",
    "for (i in 1:length(aligned_disorders))\n",
    "  for (j in 1:(length(aligned_disorders[[i]]$ExternalReferenceList)-1))\n",
    "    if (aligned_disorders[[i]]$ExternalReferenceList[[j]]$Source=='ICD-10')\n",
    "    {\n",
    "      aligned_disorders_with_ICD10[[indice_list]]=data.frame(aligned_disorders[[i]]$OrphaCode)\n",
    "      indice_list=indice_list+1\n",
    "    }\n",
    "aligned_disorders_with_ICD10=rbindlist(aligned_disorders_with_ICD10)\n",
    "\n",
    "# We remove duplicates\n",
    "aligned_disorders_with_ICD10=aligned_disorders_with_ICD10[!duplicated(aligned_disorders_with_ICD10)]"
   ]
  },
  {
   "cell_type": "code",
   "execution_count": 47,
   "id": "01c9ce5a-1b79-480e-8373-c89cabdc61f9",
   "metadata": {},
   "outputs": [
    {
     "data": {
      "text/html": [
       "5250"
      ],
      "text/latex": [
       "5250"
      ],
      "text/markdown": [
       "5250"
      ],
      "text/plain": [
       "[1] 5250"
      ]
     },
     "metadata": {},
     "output_type": "display_data"
    },
    {
     "data": {
      "text/html": [
       "85.16"
      ],
      "text/latex": [
       "85.16"
      ],
      "text/markdown": [
       "85.16"
      ],
      "text/plain": [
       "[1] 85.16"
      ]
     },
     "metadata": {},
     "output_type": "display_data"
    }
   ],
   "source": [
    "# Number of disorders aligned with at least one ICD-10\n",
    "number_aligned_disorders_with_ICD10=nrow(aligned_disorders_with_ICD10)\n",
    "number_aligned_disorders_with_ICD10\n",
    "# Percentage of disorders aligned with at least one ICD-10\n",
    "percentage_aligned_disorders_with_ICD10=number_aligned_disorders_with_ICD10/number_disorders*100\n",
    "round(percentage_aligned_disorders_with_ICD10, digits = 2)"
   ]
  },
  {
   "cell_type": "code",
   "execution_count": 44,
   "id": "067afc4c-799d-485c-ad4b-80dfa3b34b1e",
   "metadata": {},
   "outputs": [],
   "source": [
    "### We want the disorders aligned with at least one ICD-10 by an Exact relationship\n",
    "indice_list=1\n",
    "ICD10_aligned_by_exact_relationship=list()\n",
    "for (i in 1:length(aligned_disorders))\n",
    "  for (j in 1:(length(aligned_disorders[[i]]$ExternalReferenceList)-1))\n",
    "    if (aligned_disorders[[i]]$ExternalReferenceList[[j]]$Source=='ICD-10' &\n",
    "        aligned_disorders[[i]]$ExternalReferenceList[[j]]$DisorderMappingRelation$Name$text=='E (Exact mapping: the two concepts are equivalent)')\n",
    "    {\n",
    "      ICD10_aligned_by_exact_relationship[[indice_list]]=data.frame(aligned_disorders[[i]]$OrphaCode)\n",
    "      indice_list=indice_list+1\n",
    "    }\n",
    "ICD10_aligned_by_exact_relationship=rbindlist(ICD10_aligned_by_exact_relationship)\n",
    "\n",
    "# We delete duplicates\n",
    "ICD10_aligned_by_exact_relationship=ICD10_aligned_by_exact_relationship[!duplicated(ICD10_aligned_by_exact_relationship)]"
   ]
  },
  {
   "cell_type": "code",
   "execution_count": 48,
   "id": "7d3dc525-a470-4a49-964d-a64b3061714e",
   "metadata": {},
   "outputs": [
    {
     "data": {
      "text/html": [
       "413"
      ],
      "text/latex": [
       "413"
      ],
      "text/markdown": [
       "413"
      ],
      "text/plain": [
       "[1] 413"
      ]
     },
     "metadata": {},
     "output_type": "display_data"
    },
    {
     "data": {
      "text/html": [
       "6.7"
      ],
      "text/latex": [
       "6.7"
      ],
      "text/markdown": [
       "6.7"
      ],
      "text/plain": [
       "[1] 6.7"
      ]
     },
     "metadata": {},
     "output_type": "display_data"
    }
   ],
   "source": [
    "# Number of disorders aligned with at least one ICD-10 by an Exact relationship\n",
    "number_ICD10_aligned_by_exact_relationship=nrow(ICD10_aligned_by_exact_relationship)\n",
    "number_ICD10_aligned_by_exact_relationship\n",
    "# Percentage of disorders aligned with at least one ICD-10 by an Exact relationship\n",
    "percentage_ICD10_aligned_by_exact_relationship=number_ICD10_aligned_by_exact_relationship/number_disorders*100\n",
    "round(percentage_ICD10_aligned_by_exact_relationship, digits = 2)"
   ]
  },
  {
   "cell_type": "code",
   "execution_count": null,
   "id": "d747ee71-3afc-47ea-b836-5072fac7c3fc",
   "metadata": {},
   "outputs": [],
   "source": []
  }
 ],
 "metadata": {
  "kernelspec": {
   "display_name": "R",
   "language": "R",
   "name": "ir"
  },
  "language_info": {
   "codemirror_mode": "r",
   "file_extension": ".r",
   "mimetype": "text/x-r-source",
   "name": "R",
   "pygments_lexer": "r",
   "version": "4.2.1"
  }
 },
 "nbformat": 4,
 "nbformat_minor": 5
}

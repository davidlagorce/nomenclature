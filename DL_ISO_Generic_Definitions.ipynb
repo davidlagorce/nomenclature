{
 "cells": [
  {
   "cell_type": "code",
   "execution_count": 1,
   "id": "d05ea03b-ec5e-4f65-af2a-11450abcf480",
   "metadata": {},
   "outputs": [],
   "source": [
    "##############################\n",
    "###   LANGUAGE SELECTION   ###\n",
    "###      en -> English     ###\n",
    "###      cs -> Czech       ###\n",
    "###      de -> German      ###\n",
    "###      es -> Spanish     ###\n",
    "###      fr -> French      ###\n",
    "###      it -> Italian     ###\n",
    "###      nl -> Dutch       ###\n",
    "###      pl -> Polish      ###\n",
    "###      pt -> Portuguese  ###\n",
    "##############################\n",
    "\n",
    "language = \"fr\""
   ]
  },
  {
   "cell_type": "code",
   "execution_count": 2,
   "id": "e578a756-50ee-4f11-a922-8cde0d2e88ca",
   "metadata": {},
   "outputs": [],
   "source": [
    "library(jsonlite)\n",
    "library(rlist)\n",
    "library(data.table)\n",
    "suppressPackageStartupMessages(library(\"dplyr\"))\n",
    "library(XML)\n",
    "library(methods)"
   ]
  },
  {
   "cell_type": "code",
   "execution_count": 3,
   "id": "bfc4a6e3-1a8b-4faf-a999-2af9202448bf",
   "metadata": {},
   "outputs": [],
   "source": [
    "# We open xml \"product1_en_cross_jdbor_evo\"\n",
    "product1=xmlParse(paste0(\"xml/\",language,\"_product1.xml\"))\n",
    "product1=xmlToList(product1)\n",
    "# We remove the last element of the list, which is the numeric count of all elements of the list\n",
    "product1=product1$DisorderList\n",
    "product1=product1[-length(product1)]\n",
    "\n",
    "### Our list for working\n",
    "indice_list=1\n",
    "product=list()\n",
    "for (i in 1:length(product1))\n",
    "{\n",
    "  product[[indice_list]]=product1[[i]]\n",
    "  indice_list=indice_list+1\n",
    "}\n",
    "# Each element in the list is a disorder"
   ]
  },
  {
   "cell_type": "code",
   "execution_count": 4,
   "id": "70d2f61c-f6c0-453f-bbaf-a94e20bfe25a",
   "metadata": {},
   "outputs": [],
   "source": [
    "# We previously need to select the active clinical entities:\n",
    "# Head of classification (flag=128), Historical entities (flag=512) & On-line (flag=1)\n",
    "indice_list=1\n",
    "all_active_clinical_entities=list()\n",
    "for (i in 1:length(product))\n",
    "  if (product[[i]]$DisorderFlagList$DisorderFlag$Value=='1' |\n",
    "      product[[i]]$DisorderFlagList$DisorderFlag$Value=='128' |\n",
    "      product[[i]]$DisorderFlagList$DisorderFlag$Value=='512')\n",
    "  {\n",
    "    all_active_clinical_entities[[indice_list]]=product[[i]]\n",
    "    indice_list=indice_list+1\n",
    "  }"
   ]
  },
  {
   "cell_type": "code",
   "execution_count": 5,
   "id": "0dbf4b85-b719-4258-88ee-ec6f2b52447a",
   "metadata": {},
   "outputs": [
    {
     "data": {
      "text/html": [
       "6227"
      ],
      "text/latex": [
       "6227"
      ],
      "text/markdown": [
       "6227"
      ],
      "text/plain": [
       "[1] 6227"
      ]
     },
     "metadata": {},
     "output_type": "display_data"
    }
   ],
   "source": [
    "# We only want to work on disorders\n",
    "indice_list=1\n",
    "disorders=list()\n",
    "for (i in 1:length(all_active_clinical_entities))\n",
    "  if (all_active_clinical_entities[[i]]$DisorderGroup$.attrs=='36547')\n",
    "  {\n",
    "    disorders[[indice_list]]=all_active_clinical_entities[[i]]\n",
    "    indice_list=indice_list+1\n",
    "  }\n",
    "\n",
    "# Number of disorders\n",
    "number_disorders=length(disorders)\n",
    "number_disorders"
   ]
  },
  {
   "cell_type": "code",
   "execution_count": 6,
   "id": "e54a990b-2f3a-4eb4-b751-e29fe0f3cdd0",
   "metadata": {},
   "outputs": [],
   "source": [
    "### Calculation of numbers of disorders with a definition\n",
    "# We look for the disorders that have a definition in their datas\n",
    "indice_list=1\n",
    "disorder_with_definition=list()\n",
    "for (i in 1:length(disorders))\n",
    "  if (!is.null(disorders[[i]]$SummaryInformationList$SummaryInformation$\n",
    "               TextSectionList$TextSection$TextSectionType$Name$text))\n",
    "  {\n",
    "    disorder_with_definition[[indice_list]]=disorders[[i]]\n",
    "    indice_list=indice_list+1\n",
    "  }"
   ]
  },
  {
   "cell_type": "code",
   "execution_count": 7,
   "id": "cc40c374-eec4-4a7b-816b-a1232956a7cd",
   "metadata": {},
   "outputs": [
    {
     "data": {
      "text/html": [
       "4294"
      ],
      "text/latex": [
       "4294"
      ],
      "text/markdown": [
       "4294"
      ],
      "text/plain": [
       "[1] 4294"
      ]
     },
     "metadata": {},
     "output_type": "display_data"
    }
   ],
   "source": [
    "# Number of disorders with a definition in English\n",
    "number_of_disorders_with_definition=length(disorder_with_definition)\n",
    "number_of_disorders_with_definition"
   ]
  },
  {
   "cell_type": "code",
   "execution_count": 9,
   "id": "4c006436-e69d-4a51-ab0d-24a1407a8ccc",
   "metadata": {},
   "outputs": [
    {
     "data": {
      "text/html": [
       "68.957764573631"
      ],
      "text/latex": [
       "68.957764573631"
      ],
      "text/markdown": [
       "68.957764573631"
      ],
      "text/plain": [
       "[1] 68.95776"
      ]
     },
     "metadata": {},
     "output_type": "display_data"
    }
   ],
   "source": [
    "# Percentage of disorders with a definition in English\n",
    "percentage_of_disorders_with_definition=number_of_disorders_with_definition/number_disorders*100\n",
    "percentage_of_disorders_with_definition"
   ]
  },
  {
   "cell_type": "code",
   "execution_count": null,
   "id": "c4e999fb-1293-4e5e-b229-77bf92f33e29",
   "metadata": {},
   "outputs": [],
   "source": []
  }
 ],
 "metadata": {
  "kernelspec": {
   "display_name": "R",
   "language": "R",
   "name": "ir"
  },
  "language_info": {
   "codemirror_mode": "r",
   "file_extension": ".r",
   "mimetype": "text/x-r-source",
   "name": "R",
   "pygments_lexer": "r",
   "version": "4.2.1"
  }
 },
 "nbformat": 4,
 "nbformat_minor": 5
}
